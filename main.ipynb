{
 "metadata": {
  "language_info": {
   "codemirror_mode": {
    "name": "ipython",
    "version": 3
   },
   "file_extension": ".py",
   "mimetype": "text/x-python",
   "name": "python",
   "nbconvert_exporter": "python",
   "pygments_lexer": "ipython3",
   "version": "3.7.9-final"
  },
  "orig_nbformat": 2,
  "kernelspec": {
   "name": "Python 3.7.9 64-bit ('myenv': conda)",
   "display_name": "Python 3.7.9 64-bit ('myenv': conda)",
   "metadata": {
    "interpreter": {
     "hash": "e29dce58b91f2f5a4180056205137d830253d79de82b3c43c3069609991c883f"
    }
   }
  }
 },
 "nbformat": 4,
 "nbformat_minor": 2,
 "cells": [
  {
   "cell_type": "code",
   "execution_count": 6,
   "metadata": {},
   "outputs": [],
   "source": [
    "import h5py\n",
    "import pandas as pd \n",
    "import matplotlib.pyplot as plt\n",
    "import numpy as np\n",
    "import joblib\n",
    "import os\n",
    "\n",
    "\n",
    "f_train = h5py.File(\"data/raw/X_train.h5/X_train.h5\",\"r\")\n",
    "f_test = h5py.File(\"data/raw/X_test.h5/X_test.h5\",\"r\")\n",
    "\n",
    "\n",
    "y_train_raw = pd.read_csv('data/raw/y_train.csv')\n",
    "\n"
   ]
  },
  {
   "cell_type": "code",
   "execution_count": 25,
   "metadata": {},
   "outputs": [],
   "source": [
    "def windows_split(X_data):\n",
    "    \"\"\"split the data in windows of length n for manipulation such as MMD (ref entropy.pdf figure 7\"\"\"\n",
    "    n = len(X_data)\n",
    "    return np.array([X_data[i*100:100*(i+1)] for i in range(n//100)])\n",
    "\n",
    "def MMD(data_array):\n",
    "    \"\"\"return MMD of a signal\"\"\"\n",
    "    n_pts = len(data_array)\n",
    "    min_val = data_array[0]\n",
    "    max_val = data_array[0]\n",
    "    min_index = 0\n",
    "    max_index = 0\n",
    "    for i in range(n_pts):\n",
    "        if data_array[i]<min_val:\n",
    "            min_val = data_array[min_index]\n",
    "            min_index = i\n",
    "        if data_array[i]>max_val:\n",
    "            max_val = data_array[max_index]\n",
    "            min_index = i\n",
    "        \n",
    "    d = np.sqrt((max_index-min_index)**2 + (max_val-min_val)**2)\n",
    "    return d\n",
    "\n",
    "\n",
    "def MMD_epoch(data_epoch):\n",
    "    \"\"\"return sum of the MMD of each window of an epoch\"\"\"\n",
    "    return sum([MMD(split) for split in windows_split(data_epoch)])\n",
    "\n",
    "def get_mid_freq(freq_seq):\n",
    "    \"\"\"get the frequence where the amplitude of the integral at left and right are equal\"\"\"\n",
    "    n_pts = len(freq_seq)\n",
    "    integral = np.sum(np.abs(freq_seq[:n_pts//2]))\n",
    "    cum_sum = 0 \n",
    "    for i in range(len(freq_seq)):\n",
    "        cum_sum = cum_sum + np.abs(freq_seq[i])\n",
    "        if cum_sum>=integral/2:\n",
    "            # print(cum_sum,integral)\n",
    "            return i\n",
    "\n",
    "def get_amplitude_range_freq(freq_seq,fmin,fmax):\n",
    "    \"\"\"get the sum of amplitude of frequencies in a given range\"\"\"\n",
    "    return np.sum(np.abs(freq_seq[fmin:fmax]))\n",
    "    \n",
    "\n",
    "\n",
    "\n",
    "def esis(data_array):\n",
    "    \"\"\"retur sum of amplitude of the signal\"\"\"\n",
    "    return np.sum(np.square(np.abs(data_array)))\n",
    "\n",
    "def esis_epoch(data_epoch):\n",
    "    \"\"\"return sum of amplitude of the signal for an epoch\"\"\"\n",
    "    return sum([esis(split) for split in windows_split(data_epoch)])\n",
    "\n",
    "\n",
    "\n",
    "def get_features(data,n=None):\n",
    "    \"\"\"extract de features from the data\"\"\" \n",
    "    n_eeg = 2\n",
    "    \n",
    "    if n !=None: #take only part of the data\n",
    "        data_cut = {}\n",
    "        for key in data.keys():\n",
    "            data_cut[key] = data[key][:n]\n",
    "        data = data_cut\n",
    "    feature_dic={}\n",
    "    for i in range(1,n_eeg+1) : feature_dic['eeg_' +str(i)+\"MMD\"] = [MMD_epoch(eeg_epoch) for eeg_epoch in data['eeg_' +str(i)][:]]\n",
    "    feature_dic[\"xMMD\"] = [MMD_epoch(pos_epoch) for pos_epoch in data['x'][:]]\n",
    "    feature_dic[\"yMMD\"] = [MMD_epoch(pos_epoch) for pos_epoch in data['y'][:]]\n",
    "    feature_dic[\"zMMD\"] = [MMD_epoch(pos_epoch) for pos_epoch in data['z'][:]]\n",
    "    feature_dic[\"pulseMMD\"] = [MMD_epoch(pos_epoch) for pos_epoch in data['pulse'][:]]\n",
    "\n",
    "    for i in range(1,n_eeg+1) : feature_dic[\"eeg_\"+str(i)+\"esis\"] = [esis_epoch(eeg_epoch) for eeg_epoch in data['eeg_'+str(i)][:]]\n",
    "    feature_dic[\"xesis\"] = [esis_epoch(pos_epoch) for pos_epoch in data['x'][:]]\n",
    "    feature_dic[\"yesis\"] = [esis_epoch(pos_epoch) for pos_epoch in data['y'][:]]\n",
    "    feature_dic[\"zesis\"] = [esis_epoch(pos_epoch) for pos_epoch in data['z'][:]]\n",
    "    feature_dic[\"pulseesis\"] = [esis_epoch(pos_epoch) for pos_epoch in data['pulse'][:]]\n",
    "\n",
    "    for i in range(1,n_eeg+1): feature_dic[\"eeg_\"+str(i)+\"midfreq\"] = [get_mid_freq(eeg_epoch) for eeg_epoch in data['eeg_'+str(i)][:]]\n",
    "    \n",
    "    \n",
    "    return pd.DataFrame(feature_dic)"
   ]
  },
  {
   "cell_type": "code",
   "execution_count": 26,
   "metadata": {},
   "outputs": [],
   "source": [
    "n_pts = 1000\n",
    "X_features=get_features(f_train,n_pts)\n",
    "\n",
    "y_train_vals = y_train_raw[\"sleep_stage\"][:n_pts].values\n",
    "\n",
    "# on passe l'output en chaine de caracteres \n",
    "y_train_vals = [str(y) for y in y_train_vals]"
   ]
  },
  {
   "cell_type": "code",
   "execution_count": 29,
   "metadata": {},
   "outputs": [
    {
     "output_type": "execute_result",
     "data": {
      "text/plain": [
       "['data/processed/y_last']"
      ]
     },
     "metadata": {},
     "execution_count": 29
    }
   ],
   "source": [
    "####### save load ######\n",
    "import joblib \n",
    "\n",
    "joblib.dump(X_features,\"data/processed/X_features_last\")\n",
    "joblib.dump(y_train_vals,\"data/processed/y_last\")\n",
    "\n",
    "# X_features = joblib.load(\"data/processed/X_train_last\")\n",
    "# y_train_vals = joblib.load(\"data/processed/y_last\")"
   ]
  },
  {
   "cell_type": "code",
   "execution_count": 32,
   "metadata": {},
   "outputs": [
    {
     "output_type": "stream",
     "name": "stdout",
     "text": [
      "(0.693939393939394, 1.0)\n"
     ]
    }
   ],
   "source": [
    "#ML PART\n",
    "from sklearn.ensemble import RandomForestClassifier\n",
    "from sklearn.metrics import f1_score\n",
    "from sklearn.preprocessing import MinMaxScaler\n",
    "from sklearn.metrics import confusion_matrix\n",
    "from sklearn.model_selection import train_test_split\n",
    "from sklearn.tree import DecisionTreeClassifier\n",
    "\n",
    "import joblib\n",
    "\n",
    "X=X_features\n",
    "y=y_train_vals\n",
    "\n",
    "scaler = MinMaxScaler()\n",
    "X_scaled = scaler.fit_transform(X)\n",
    "\n",
    "#chose model\n",
    "model = RandomForestClassifier()\n",
    "\n",
    "#split train/test\n",
    "x_train,x_test,y_train,y_test = train_test_split(X_scaled,y,test_size=0.33,random_state =42)\n",
    "\n",
    "#train\n",
    "model.fit(x_train,y_train)\n",
    "\n",
    "#evaluation\n",
    "sc = model.score(x_test,y_test), model.score(x_train,y_train)\n",
    "\n",
    "print(sc)"
   ]
  },
  {
   "cell_type": "code",
   "execution_count": 17,
   "metadata": {},
   "outputs": [],
   "source": [
    "#############################\n",
    "#TEST BELLOW\n",
    "#############################"
   ]
  },
  {
   "cell_type": "code",
   "execution_count": 55,
   "metadata": {},
   "outputs": [
    {
     "output_type": "stream",
     "name": "stdout",
     "text": [
      "2    217\n3    214\n0    116\n4     91\n1     32\ndtype: int64\n3    116\n2    100\n0     59\n4     46\n1      9\ndtype: int64\n"
     ]
    }
   ],
   "source": [
    "print(pd.Series(y_train).value_counts())\n",
    "print(pd.Series(y_test).value_counts())\n"
   ]
  },
  {
   "cell_type": "code",
   "execution_count": 18,
   "metadata": {},
   "outputs": [
    {
     "output_type": "execute_result",
     "data": {
      "text/plain": [
       "array([0.08452545, 0.06105623, 0.03019909, 0.03342857, 0.03079366,\n",
       "       0.05190573, 0.12391937, 0.06005587, 0.08962705, 0.12564596,\n",
       "       0.17736885, 0.05532163, 0.0394663 , 0.03668623])"
      ]
     },
     "metadata": {},
     "execution_count": 18
    }
   ],
   "source": [
    "model.feature_importances_"
   ]
  },
  {
   "cell_type": "code",
   "execution_count": 2,
   "metadata": {},
   "outputs": [
    {
     "output_type": "stream",
     "name": "stdout",
     "text": [
      "<KeysViewHDF5 ['eeg_1', 'eeg_2', 'eeg_3', 'eeg_4', 'eeg_5', 'eeg_6', 'eeg_7', 'index', 'index_absolute', 'index_window', 'pulse', 'x', 'y', 'z']>\n24688\n[1020 1021 1022 1023 1024 1025 1026    0    1    2]\n[1020 1021 1022 1023 1024 1025 1026 1027 1028 1029]\n[0 0 0 0 0 0 0 1 1 1]\n"
     ]
    }
   ],
   "source": [
    "#describe data\n",
    "# print(len(f_test[\"eeg_1\"]))\n",
    "print(f_train.keys())\n",
    "print(len(f_train[\"eeg_1\"]))\n",
    "\n",
    "# print(f_test[\"index\"][10:])\n",
    "print(f_train[\"index_window\"][1020:1030])\n",
    "print(f_train[\"index_absolute\"][1020:1030])\n",
    "print(f_train[\"index\"][1020:1030])\n",
    "\n"
   ]
  },
  {
   "cell_type": "code",
   "execution_count": 16,
   "metadata": {},
   "outputs": [],
   "source": [
    "\n",
    "eeg1_merged = np.array(f_train[\"eeg_1\"][:100]).reshape(-1)\n",
    "eeg7_merged = np.array(f_train[\"eeg_1\"][:100]).reshape(-1)\n",
    "x_merged = np.array(f_train[\"x\"][:100]).reshape(-1)\n"
   ]
  },
  {
   "cell_type": "code",
   "execution_count": 30,
   "metadata": {},
   "outputs": [
    {
     "output_type": "execute_result",
     "data": {
      "text/plain": [
       "[<matplotlib.lines.Line2D at 0xc660088>]"
      ]
     },
     "metadata": {},
     "execution_count": 30
    },
    {
     "output_type": "display_data",
     "data": {
      "text/plain": "<Figure size 432x288 with 1 Axes>",
      "image/svg+xml": "<?xml version=\"1.0\" encoding=\"utf-8\" standalone=\"no\"?>\r\n<!DOCTYPE svg PUBLIC \"-//W3C//DTD SVG 1.1//EN\"\r\n  \"http://www.w3.org/Graphics/SVG/1.1/DTD/svg11.dtd\">\r\n<!-- Created with matplotlib (https://matplotlib.org/) -->\r\n<svg height=\"259.116562pt\" version=\"1.1\" viewBox=\"0 0 370.942187 259.116562\" width=\"370.942187pt\" xmlns=\"http://www.w3.org/2000/svg\" xmlns:xlink=\"http://www.w3.org/1999/xlink\">\r\n <metadata>\r\n  <rdf:RDF xmlns:cc=\"http://creativecommons.org/ns#\" xmlns:dc=\"http://purl.org/dc/elements/1.1/\" xmlns:rdf=\"http://www.w3.org/1999/02/22-rdf-syntax-ns#\">\r\n   <cc:Work>\r\n    <dc:type rdf:resource=\"http://purl.org/dc/dcmitype/StillImage\"/>\r\n    <dc:date>2020-11-04T14:23:04.114805</dc:date>\r\n    <dc:format>image/svg+xml</dc:format>\r\n    <dc:creator>\r\n     <cc:Agent>\r\n      <dc:title>Matplotlib v3.3.1, https://matplotlib.org/</dc:title>\r\n     </cc:Agent>\r\n    </dc:creator>\r\n   </cc:Work>\r\n  </rdf:RDF>\r\n </metadata>\r\n <defs>\r\n  <style type=\"text/css\">*{stroke-linecap:butt;stroke-linejoin:round;}</style>\r\n </defs>\r\n <g id=\"figure_1\">\r\n  <g id=\"patch_1\">\r\n   <path d=\"M 0 259.116562 \r\nL 370.942187 259.116562 \r\nL 370.942187 0 \r\nL 0 0 \r\nz\r\n\" style=\"fill:none;\"/>\r\n  </g>\r\n  <g id=\"axes_1\">\r\n   <g id=\"patch_2\">\r\n    <path d=\"M 28.942188 235.238437 \r\nL 363.742188 235.238437 \r\nL 363.742188 17.798437 \r\nL 28.942188 17.798437 \r\nz\r\n\" style=\"fill:#ffffff;\"/>\r\n   </g>\r\n   <g id=\"matplotlib.axis_1\">\r\n    <g id=\"xtick_1\">\r\n     <g id=\"line2d_1\">\r\n      <defs>\r\n       <path d=\"M 0 0 \r\nL 0 3.5 \r\n\" id=\"m0dccd22dd7\" style=\"stroke:#000000;stroke-width:0.8;\"/>\r\n      </defs>\r\n      <g>\r\n       <use style=\"stroke:#000000;stroke-width:0.8;\" x=\"44.160369\" xlink:href=\"#m0dccd22dd7\" y=\"235.238437\"/>\r\n      </g>\r\n     </g>\r\n     <g id=\"text_1\">\r\n      <!-- 0 -->\r\n      <g transform=\"translate(40.979119 249.836875)scale(0.1 -0.1)\">\r\n       <defs>\r\n        <path d=\"M 31.78125 66.40625 \r\nQ 24.171875 66.40625 20.328125 58.90625 \r\nQ 16.5 51.421875 16.5 36.375 \r\nQ 16.5 21.390625 20.328125 13.890625 \r\nQ 24.171875 6.390625 31.78125 6.390625 \r\nQ 39.453125 6.390625 43.28125 13.890625 \r\nQ 47.125 21.390625 47.125 36.375 \r\nQ 47.125 51.421875 43.28125 58.90625 \r\nQ 39.453125 66.40625 31.78125 66.40625 \r\nz\r\nM 31.78125 74.21875 \r\nQ 44.046875 74.21875 50.515625 64.515625 \r\nQ 56.984375 54.828125 56.984375 36.375 \r\nQ 56.984375 17.96875 50.515625 8.265625 \r\nQ 44.046875 -1.421875 31.78125 -1.421875 \r\nQ 19.53125 -1.421875 13.0625 8.265625 \r\nQ 6.59375 17.96875 6.59375 36.375 \r\nQ 6.59375 54.828125 13.0625 64.515625 \r\nQ 19.53125 74.21875 31.78125 74.21875 \r\nz\r\n\" id=\"DejaVuSans-48\"/>\r\n       </defs>\r\n       <use xlink:href=\"#DejaVuSans-48\"/>\r\n      </g>\r\n     </g>\r\n    </g>\r\n    <g id=\"xtick_2\">\r\n     <g id=\"line2d_2\">\r\n      <g>\r\n       <use style=\"stroke:#000000;stroke-width:0.8;\" x=\"84.742458\" xlink:href=\"#m0dccd22dd7\" y=\"235.238437\"/>\r\n      </g>\r\n     </g>\r\n     <g id=\"text_2\">\r\n      <!-- 20000 -->\r\n      <g transform=\"translate(68.836208 249.836875)scale(0.1 -0.1)\">\r\n       <defs>\r\n        <path d=\"M 19.1875 8.296875 \r\nL 53.609375 8.296875 \r\nL 53.609375 0 \r\nL 7.328125 0 \r\nL 7.328125 8.296875 \r\nQ 12.9375 14.109375 22.625 23.890625 \r\nQ 32.328125 33.6875 34.8125 36.53125 \r\nQ 39.546875 41.84375 41.421875 45.53125 \r\nQ 43.3125 49.21875 43.3125 52.78125 \r\nQ 43.3125 58.59375 39.234375 62.25 \r\nQ 35.15625 65.921875 28.609375 65.921875 \r\nQ 23.96875 65.921875 18.8125 64.3125 \r\nQ 13.671875 62.703125 7.8125 59.421875 \r\nL 7.8125 69.390625 \r\nQ 13.765625 71.78125 18.9375 73 \r\nQ 24.125 74.21875 28.421875 74.21875 \r\nQ 39.75 74.21875 46.484375 68.546875 \r\nQ 53.21875 62.890625 53.21875 53.421875 \r\nQ 53.21875 48.921875 51.53125 44.890625 \r\nQ 49.859375 40.875 45.40625 35.40625 \r\nQ 44.1875 33.984375 37.640625 27.21875 \r\nQ 31.109375 20.453125 19.1875 8.296875 \r\nz\r\n\" id=\"DejaVuSans-50\"/>\r\n       </defs>\r\n       <use xlink:href=\"#DejaVuSans-50\"/>\r\n       <use x=\"63.623047\" xlink:href=\"#DejaVuSans-48\"/>\r\n       <use x=\"127.246094\" xlink:href=\"#DejaVuSans-48\"/>\r\n       <use x=\"190.869141\" xlink:href=\"#DejaVuSans-48\"/>\r\n       <use x=\"254.492188\" xlink:href=\"#DejaVuSans-48\"/>\r\n      </g>\r\n     </g>\r\n    </g>\r\n    <g id=\"xtick_3\">\r\n     <g id=\"line2d_3\">\r\n      <g>\r\n       <use style=\"stroke:#000000;stroke-width:0.8;\" x=\"125.324547\" xlink:href=\"#m0dccd22dd7\" y=\"235.238437\"/>\r\n      </g>\r\n     </g>\r\n     <g id=\"text_3\">\r\n      <!-- 40000 -->\r\n      <g transform=\"translate(109.418297 249.836875)scale(0.1 -0.1)\">\r\n       <defs>\r\n        <path d=\"M 37.796875 64.3125 \r\nL 12.890625 25.390625 \r\nL 37.796875 25.390625 \r\nz\r\nM 35.203125 72.90625 \r\nL 47.609375 72.90625 \r\nL 47.609375 25.390625 \r\nL 58.015625 25.390625 \r\nL 58.015625 17.1875 \r\nL 47.609375 17.1875 \r\nL 47.609375 0 \r\nL 37.796875 0 \r\nL 37.796875 17.1875 \r\nL 4.890625 17.1875 \r\nL 4.890625 26.703125 \r\nz\r\n\" id=\"DejaVuSans-52\"/>\r\n       </defs>\r\n       <use xlink:href=\"#DejaVuSans-52\"/>\r\n       <use x=\"63.623047\" xlink:href=\"#DejaVuSans-48\"/>\r\n       <use x=\"127.246094\" xlink:href=\"#DejaVuSans-48\"/>\r\n       <use x=\"190.869141\" xlink:href=\"#DejaVuSans-48\"/>\r\n       <use x=\"254.492188\" xlink:href=\"#DejaVuSans-48\"/>\r\n      </g>\r\n     </g>\r\n    </g>\r\n    <g id=\"xtick_4\">\r\n     <g id=\"line2d_4\">\r\n      <g>\r\n       <use style=\"stroke:#000000;stroke-width:0.8;\" x=\"165.906636\" xlink:href=\"#m0dccd22dd7\" y=\"235.238437\"/>\r\n      </g>\r\n     </g>\r\n     <g id=\"text_4\">\r\n      <!-- 60000 -->\r\n      <g transform=\"translate(150.000386 249.836875)scale(0.1 -0.1)\">\r\n       <defs>\r\n        <path d=\"M 33.015625 40.375 \r\nQ 26.375 40.375 22.484375 35.828125 \r\nQ 18.609375 31.296875 18.609375 23.390625 \r\nQ 18.609375 15.53125 22.484375 10.953125 \r\nQ 26.375 6.390625 33.015625 6.390625 \r\nQ 39.65625 6.390625 43.53125 10.953125 \r\nQ 47.40625 15.53125 47.40625 23.390625 \r\nQ 47.40625 31.296875 43.53125 35.828125 \r\nQ 39.65625 40.375 33.015625 40.375 \r\nz\r\nM 52.59375 71.296875 \r\nL 52.59375 62.3125 \r\nQ 48.875 64.0625 45.09375 64.984375 \r\nQ 41.3125 65.921875 37.59375 65.921875 \r\nQ 27.828125 65.921875 22.671875 59.328125 \r\nQ 17.53125 52.734375 16.796875 39.40625 \r\nQ 19.671875 43.65625 24.015625 45.921875 \r\nQ 28.375 48.1875 33.59375 48.1875 \r\nQ 44.578125 48.1875 50.953125 41.515625 \r\nQ 57.328125 34.859375 57.328125 23.390625 \r\nQ 57.328125 12.15625 50.6875 5.359375 \r\nQ 44.046875 -1.421875 33.015625 -1.421875 \r\nQ 20.359375 -1.421875 13.671875 8.265625 \r\nQ 6.984375 17.96875 6.984375 36.375 \r\nQ 6.984375 53.65625 15.1875 63.9375 \r\nQ 23.390625 74.21875 37.203125 74.21875 \r\nQ 40.921875 74.21875 44.703125 73.484375 \r\nQ 48.484375 72.75 52.59375 71.296875 \r\nz\r\n\" id=\"DejaVuSans-54\"/>\r\n       </defs>\r\n       <use xlink:href=\"#DejaVuSans-54\"/>\r\n       <use x=\"63.623047\" xlink:href=\"#DejaVuSans-48\"/>\r\n       <use x=\"127.246094\" xlink:href=\"#DejaVuSans-48\"/>\r\n       <use x=\"190.869141\" xlink:href=\"#DejaVuSans-48\"/>\r\n       <use x=\"254.492188\" xlink:href=\"#DejaVuSans-48\"/>\r\n      </g>\r\n     </g>\r\n    </g>\r\n    <g id=\"xtick_5\">\r\n     <g id=\"line2d_5\">\r\n      <g>\r\n       <use style=\"stroke:#000000;stroke-width:0.8;\" x=\"206.488724\" xlink:href=\"#m0dccd22dd7\" y=\"235.238437\"/>\r\n      </g>\r\n     </g>\r\n     <g id=\"text_5\">\r\n      <!-- 80000 -->\r\n      <g transform=\"translate(190.582474 249.836875)scale(0.1 -0.1)\">\r\n       <defs>\r\n        <path d=\"M 31.78125 34.625 \r\nQ 24.75 34.625 20.71875 30.859375 \r\nQ 16.703125 27.09375 16.703125 20.515625 \r\nQ 16.703125 13.921875 20.71875 10.15625 \r\nQ 24.75 6.390625 31.78125 6.390625 \r\nQ 38.8125 6.390625 42.859375 10.171875 \r\nQ 46.921875 13.96875 46.921875 20.515625 \r\nQ 46.921875 27.09375 42.890625 30.859375 \r\nQ 38.875 34.625 31.78125 34.625 \r\nz\r\nM 21.921875 38.8125 \r\nQ 15.578125 40.375 12.03125 44.71875 \r\nQ 8.5 49.078125 8.5 55.328125 \r\nQ 8.5 64.0625 14.71875 69.140625 \r\nQ 20.953125 74.21875 31.78125 74.21875 \r\nQ 42.671875 74.21875 48.875 69.140625 \r\nQ 55.078125 64.0625 55.078125 55.328125 \r\nQ 55.078125 49.078125 51.53125 44.71875 \r\nQ 48 40.375 41.703125 38.8125 \r\nQ 48.828125 37.15625 52.796875 32.3125 \r\nQ 56.78125 27.484375 56.78125 20.515625 \r\nQ 56.78125 9.90625 50.3125 4.234375 \r\nQ 43.84375 -1.421875 31.78125 -1.421875 \r\nQ 19.734375 -1.421875 13.25 4.234375 \r\nQ 6.78125 9.90625 6.78125 20.515625 \r\nQ 6.78125 27.484375 10.78125 32.3125 \r\nQ 14.796875 37.15625 21.921875 38.8125 \r\nz\r\nM 18.3125 54.390625 \r\nQ 18.3125 48.734375 21.84375 45.5625 \r\nQ 25.390625 42.390625 31.78125 42.390625 \r\nQ 38.140625 42.390625 41.71875 45.5625 \r\nQ 45.3125 48.734375 45.3125 54.390625 \r\nQ 45.3125 60.0625 41.71875 63.234375 \r\nQ 38.140625 66.40625 31.78125 66.40625 \r\nQ 25.390625 66.40625 21.84375 63.234375 \r\nQ 18.3125 60.0625 18.3125 54.390625 \r\nz\r\n\" id=\"DejaVuSans-56\"/>\r\n       </defs>\r\n       <use xlink:href=\"#DejaVuSans-56\"/>\r\n       <use x=\"63.623047\" xlink:href=\"#DejaVuSans-48\"/>\r\n       <use x=\"127.246094\" xlink:href=\"#DejaVuSans-48\"/>\r\n       <use x=\"190.869141\" xlink:href=\"#DejaVuSans-48\"/>\r\n       <use x=\"254.492188\" xlink:href=\"#DejaVuSans-48\"/>\r\n      </g>\r\n     </g>\r\n    </g>\r\n    <g id=\"xtick_6\">\r\n     <g id=\"line2d_6\">\r\n      <g>\r\n       <use style=\"stroke:#000000;stroke-width:0.8;\" x=\"247.070813\" xlink:href=\"#m0dccd22dd7\" y=\"235.238437\"/>\r\n      </g>\r\n     </g>\r\n     <g id=\"text_6\">\r\n      <!-- 100000 -->\r\n      <g transform=\"translate(227.983313 249.836875)scale(0.1 -0.1)\">\r\n       <defs>\r\n        <path d=\"M 12.40625 8.296875 \r\nL 28.515625 8.296875 \r\nL 28.515625 63.921875 \r\nL 10.984375 60.40625 \r\nL 10.984375 69.390625 \r\nL 28.421875 72.90625 \r\nL 38.28125 72.90625 \r\nL 38.28125 8.296875 \r\nL 54.390625 8.296875 \r\nL 54.390625 0 \r\nL 12.40625 0 \r\nz\r\n\" id=\"DejaVuSans-49\"/>\r\n       </defs>\r\n       <use xlink:href=\"#DejaVuSans-49\"/>\r\n       <use x=\"63.623047\" xlink:href=\"#DejaVuSans-48\"/>\r\n       <use x=\"127.246094\" xlink:href=\"#DejaVuSans-48\"/>\r\n       <use x=\"190.869141\" xlink:href=\"#DejaVuSans-48\"/>\r\n       <use x=\"254.492188\" xlink:href=\"#DejaVuSans-48\"/>\r\n       <use x=\"318.115234\" xlink:href=\"#DejaVuSans-48\"/>\r\n      </g>\r\n     </g>\r\n    </g>\r\n    <g id=\"xtick_7\">\r\n     <g id=\"line2d_7\">\r\n      <g>\r\n       <use style=\"stroke:#000000;stroke-width:0.8;\" x=\"287.652902\" xlink:href=\"#m0dccd22dd7\" y=\"235.238437\"/>\r\n      </g>\r\n     </g>\r\n     <g id=\"text_7\">\r\n      <!-- 120000 -->\r\n      <g transform=\"translate(268.565402 249.836875)scale(0.1 -0.1)\">\r\n       <use xlink:href=\"#DejaVuSans-49\"/>\r\n       <use x=\"63.623047\" xlink:href=\"#DejaVuSans-50\"/>\r\n       <use x=\"127.246094\" xlink:href=\"#DejaVuSans-48\"/>\r\n       <use x=\"190.869141\" xlink:href=\"#DejaVuSans-48\"/>\r\n       <use x=\"254.492188\" xlink:href=\"#DejaVuSans-48\"/>\r\n       <use x=\"318.115234\" xlink:href=\"#DejaVuSans-48\"/>\r\n      </g>\r\n     </g>\r\n    </g>\r\n    <g id=\"xtick_8\">\r\n     <g id=\"line2d_8\">\r\n      <g>\r\n       <use style=\"stroke:#000000;stroke-width:0.8;\" x=\"328.23499\" xlink:href=\"#m0dccd22dd7\" y=\"235.238437\"/>\r\n      </g>\r\n     </g>\r\n     <g id=\"text_8\">\r\n      <!-- 140000 -->\r\n      <g transform=\"translate(309.14749 249.836875)scale(0.1 -0.1)\">\r\n       <use xlink:href=\"#DejaVuSans-49\"/>\r\n       <use x=\"63.623047\" xlink:href=\"#DejaVuSans-52\"/>\r\n       <use x=\"127.246094\" xlink:href=\"#DejaVuSans-48\"/>\r\n       <use x=\"190.869141\" xlink:href=\"#DejaVuSans-48\"/>\r\n       <use x=\"254.492188\" xlink:href=\"#DejaVuSans-48\"/>\r\n       <use x=\"318.115234\" xlink:href=\"#DejaVuSans-48\"/>\r\n      </g>\r\n     </g>\r\n    </g>\r\n   </g>\r\n   <g id=\"matplotlib.axis_2\">\r\n    <g id=\"ytick_1\">\r\n     <g id=\"line2d_9\">\r\n      <defs>\r\n       <path d=\"M 0 0 \r\nL -3.5 0 \r\n\" id=\"mb28a4e8736\" style=\"stroke:#000000;stroke-width:0.8;\"/>\r\n      </defs>\r\n      <g>\r\n       <use style=\"stroke:#000000;stroke-width:0.8;\" x=\"28.942188\" xlink:href=\"#mb28a4e8736\" y=\"207.957874\"/>\r\n      </g>\r\n     </g>\r\n     <g id=\"text_9\">\r\n      <!-- −2 -->\r\n      <g transform=\"translate(7.2 211.757093)scale(0.1 -0.1)\">\r\n       <defs>\r\n        <path d=\"M 10.59375 35.5 \r\nL 73.1875 35.5 \r\nL 73.1875 27.203125 \r\nL 10.59375 27.203125 \r\nz\r\n\" id=\"DejaVuSans-8722\"/>\r\n       </defs>\r\n       <use xlink:href=\"#DejaVuSans-8722\"/>\r\n       <use x=\"83.789062\" xlink:href=\"#DejaVuSans-50\"/>\r\n      </g>\r\n     </g>\r\n    </g>\r\n    <g id=\"ytick_2\">\r\n     <g id=\"line2d_10\">\r\n      <g>\r\n       <use style=\"stroke:#000000;stroke-width:0.8;\" x=\"28.942188\" xlink:href=\"#mb28a4e8736\" y=\"162.110461\"/>\r\n      </g>\r\n     </g>\r\n     <g id=\"text_10\">\r\n      <!-- −1 -->\r\n      <g transform=\"translate(7.2 165.909679)scale(0.1 -0.1)\">\r\n       <use xlink:href=\"#DejaVuSans-8722\"/>\r\n       <use x=\"83.789062\" xlink:href=\"#DejaVuSans-49\"/>\r\n      </g>\r\n     </g>\r\n    </g>\r\n    <g id=\"ytick_3\">\r\n     <g id=\"line2d_11\">\r\n      <g>\r\n       <use style=\"stroke:#000000;stroke-width:0.8;\" x=\"28.942188\" xlink:href=\"#mb28a4e8736\" y=\"116.263047\"/>\r\n      </g>\r\n     </g>\r\n     <g id=\"text_11\">\r\n      <!-- 0 -->\r\n      <g transform=\"translate(15.579688 120.062266)scale(0.1 -0.1)\">\r\n       <use xlink:href=\"#DejaVuSans-48\"/>\r\n      </g>\r\n     </g>\r\n    </g>\r\n    <g id=\"ytick_4\">\r\n     <g id=\"line2d_12\">\r\n      <g>\r\n       <use style=\"stroke:#000000;stroke-width:0.8;\" x=\"28.942188\" xlink:href=\"#mb28a4e8736\" y=\"70.415634\"/>\r\n      </g>\r\n     </g>\r\n     <g id=\"text_12\">\r\n      <!-- 1 -->\r\n      <g transform=\"translate(15.579688 74.214853)scale(0.1 -0.1)\">\r\n       <use xlink:href=\"#DejaVuSans-49\"/>\r\n      </g>\r\n     </g>\r\n    </g>\r\n    <g id=\"ytick_5\">\r\n     <g id=\"line2d_13\">\r\n      <g>\r\n       <use style=\"stroke:#000000;stroke-width:0.8;\" x=\"28.942188\" xlink:href=\"#mb28a4e8736\" y=\"24.568221\"/>\r\n      </g>\r\n     </g>\r\n     <g id=\"text_13\">\r\n      <!-- 2 -->\r\n      <g transform=\"translate(15.579688 28.367439)scale(0.1 -0.1)\">\r\n       <use xlink:href=\"#DejaVuSans-50\"/>\r\n      </g>\r\n     </g>\r\n    </g>\r\n    <g id=\"text_14\">\r\n     <!-- 1e6 -->\r\n     <g transform=\"translate(28.942188 14.798437)scale(0.1 -0.1)\">\r\n      <defs>\r\n       <path d=\"M 56.203125 29.59375 \r\nL 56.203125 25.203125 \r\nL 14.890625 25.203125 \r\nQ 15.484375 15.921875 20.484375 11.0625 \r\nQ 25.484375 6.203125 34.421875 6.203125 \r\nQ 39.59375 6.203125 44.453125 7.46875 \r\nQ 49.3125 8.734375 54.109375 11.28125 \r\nL 54.109375 2.78125 \r\nQ 49.265625 0.734375 44.1875 -0.34375 \r\nQ 39.109375 -1.421875 33.890625 -1.421875 \r\nQ 20.796875 -1.421875 13.15625 6.1875 \r\nQ 5.515625 13.8125 5.515625 26.8125 \r\nQ 5.515625 40.234375 12.765625 48.109375 \r\nQ 20.015625 56 32.328125 56 \r\nQ 43.359375 56 49.78125 48.890625 \r\nQ 56.203125 41.796875 56.203125 29.59375 \r\nz\r\nM 47.21875 32.234375 \r\nQ 47.125 39.59375 43.09375 43.984375 \r\nQ 39.0625 48.390625 32.421875 48.390625 \r\nQ 24.90625 48.390625 20.390625 44.140625 \r\nQ 15.875 39.890625 15.1875 32.171875 \r\nz\r\n\" id=\"DejaVuSans-101\"/>\r\n      </defs>\r\n      <use xlink:href=\"#DejaVuSans-49\"/>\r\n      <use x=\"63.623047\" xlink:href=\"#DejaVuSans-101\"/>\r\n      <use x=\"125.146484\" xlink:href=\"#DejaVuSans-54\"/>\r\n     </g>\r\n    </g>\r\n   </g>\r\n   <g id=\"line2d_14\">\r\n    <path clip-path=\"url(#pf411ae1a93)\" d=\"M 44.160369 119.671056 \r\nL 44.164428 225.354801 \r\nL 44.24965 91.916951 \r\nL 44.269941 94.388603 \r\nL 44.420095 117.474007 \r\nL 44.478939 116.851926 \r\nL 44.598656 116.198153 \r\nL 44.63518 116.220866 \r\nL 44.799537 116.263982 \r\nL 46.191503 116.262952 \r\nL 46.562829 116.263577 \r\nL 46.802263 116.265328 \r\nL 46.988941 116.262237 \r\nL 49.162112 116.298976 \r\nL 49.16617 116.403971 \r\nL 49.261538 115.965993 \r\nL 49.263567 115.952396 \r\nL 49.320382 116.289845 \r\nL 49.338644 116.509478 \r\nL 49.405604 115.941469 \r\nL 49.411692 111.490218 \r\nL 49.425895 47.171179 \r\nL 49.50503 143.500219 \r\nL 49.515176 140.042006 \r\nL 49.683592 115.256128 \r\nL 49.695766 115.339118 \r\nL 49.77896 116.72291 \r\nL 49.815483 125.034057 \r\nL 49.898677 119.948775 \r\nL 49.902735 119.931972 \r\nL 49.920997 120.311208 \r\nL 49.963608 126.480561 \r\nL 49.975783 117.528715 \r\nL 50.022452 102.788495 \r\nL 50.093471 111.714596 \r\nL 50.190868 116.91351 \r\nL 50.241595 116.672049 \r\nL 50.343051 116.093405 \r\nL 50.383633 116.256544 \r\nL 50.539874 116.324491 \r\nL 50.541903 116.321646 \r\nL 50.629154 116.184826 \r\nL 50.54799 116.331868 \r\nL 50.657562 116.274148 \r\nL 50.70626 116.357027 \r\nL 50.767133 116.2654 \r\nL 50.862501 116.246376 \r\nL 50.882792 116.255764 \r\nL 51.00048 116.261815 \r\nL 51.002509 116.260354 \r\nL 51.128314 116.250538 \r\nL 51.020771 116.273074 \r\nL 51.134401 116.256766 \r\nL 51.280497 116.261386 \r\nL 51.688347 116.267784 \r\nL 51.692405 116.29087 \r\nL 51.70458 116.244169 \r\nL 51.797918 116.264707 \r\nL 53.212204 116.263391 \r\nL 53.445551 116.261222 \r\nL 53.695131 116.262955 \r\nL 53.883838 116.261906 \r\nL 53.889925 116.235411 \r\nL 53.908187 116.105732 \r\nL 53.918333 116.415403 \r\nL 53.993409 116.289088 \r\nL 54.228786 116.274375 \r\nL 54.409376 116.264619 \r\nL 54.500686 116.310765 \r\nL 54.447929 116.217906 \r\nL 54.527064 116.263996 \r\nL 54.598083 114.500742 \r\nL 54.732003 114.812893 \r\nL 54.766498 115.764148 \r\nL 54.778673 114.006347 \r\nL 54.798964 94.564366 \r\nL 54.874041 126.551738 \r\nL 54.89839 129.101009 \r\nL 54.963321 122.249932 \r\nL 55.058689 116.122902 \r\nL 55.099271 118.735235 \r\nL 55.23928 125.002856 \r\nL 55.245367 125.612138 \r\nL 55.263629 112.77159 \r\nL 55.302182 103.441089 \r\nL 55.37523 112.096455 \r\nL 55.474656 116.89808 \r\nL 55.523354 116.630269 \r\nL 55.661333 116.232513 \r\nL 55.689741 116.243948 \r\nL 55.868302 116.26455 \r\nL 56.0773 116.357274 \r\nL 56.079329 116.385944 \r\nL 56.109765 116.078534 \r\nL 56.184842 116.321208 \r\nL 56.261948 116.214047 \r\nL 56.209191 116.369427 \r\nL 56.314705 116.279124 \r\nL 56.4608 116.165577 \r\nL 56.466888 116.062996 \r\nL 56.525732 116.327664 \r\nL 56.566314 116.313521 \r\nL 56.570372 116.320148 \r\nL 56.582547 116.273995 \r\nL 56.66574 116.263117 \r\nL 56.943727 116.259287 \r\nL 56.945756 116.266148 \r\nL 57.061415 116.255659 \r\nL 57.465207 116.292862 \r\nL 57.513906 116.328812 \r\nL 57.517964 116.200238 \r\nL 57.530138 116.051505 \r\nL 57.588982 116.335056 \r\nL 57.623477 116.292908 \r\nL 57.769573 116.288343 \r\nL 57.773631 116.368808 \r\nL 57.77566 116.392839 \r\nL 57.8203 116.102971 \r\nL 57.875086 116.252535 \r\nL 57.994803 116.30923 \r\nL 57.885232 116.248097 \r\nL 57.998862 116.299137 \r\nL 58.037415 116.247181 \r\nL 58.108433 116.318001 \r\nL 58.134812 116.229391 \r\nL 58.20583 116.263243 \r\nL 58.508167 116.26193 \r\nL 58.700932 116.261735 \r\nL 58.834853 116.259591 \r\nL 59.766212 116.26269 \r\nL 59.971151 116.267227 \r\nL 61.113537 116.263632 \r\nL 61.259632 116.263149 \r\nL 62.150409 116.263574 \r\nL 62.363465 116.264633 \r\nL 62.830159 116.263585 \r\nL 62.972197 116.262724 \r\nL 62.974226 116.260608 \r\nL 63.095972 116.259074 \r\nL 63.102059 116.263183 \r\nL 63.627597 116.263859 \r\nL 63.858915 116.262953 \r\nL 64.177485 116.265046 \r\nL 64.429094 116.263226 \r\nL 64.674615 116.267307 \r\nL 64.865351 116.263408 \r\nL 65.019563 116.264129 \r\nL 65.323929 116.262459 \r\nL 65.608003 116.264785 \r\nL 65.875845 116.265313 \r\nL 66.421674 116.263311 \r\nL 67.537682 116.261365 \r\nL 67.683777 116.264705 \r\nL 68.412226 116.263949 \r\nL 68.702387 116.262787 \r\nL 68.893123 116.263113 \r\nL 70.548873 116.262845 \r\nL 70.725405 116.2622 \r\nL 71.125138 116.264785 \r\nL 71.356456 116.260501 \r\nL 71.508639 116.263014 \r\nL 71.82315 116.260986 \r\nL 71.979391 116.261906 \r\nL 72.237087 116.262856 \r\nL 72.350717 116.124562 \r\nL 72.362892 114.046417 \r\nL 72.38927 67.499486 \r\nL 72.452172 132.308116 \r\nL 72.478551 137.333915 \r\nL 72.543482 124.070857 \r\nL 72.606384 116.459118 \r\nL 72.66117 122.212602 \r\nL 72.669287 122.335317 \r\nL 72.715956 120.743688 \r\nL 72.748422 120.064906 \r\nL 72.795091 121.814026 \r\nL 72.821469 125.094614 \r\nL 72.833644 116.808466 \r\nL 72.878284 103.367557 \r\nL 72.951332 112.048782 \r\nL 73.048729 116.901152 \r\nL 73.099457 116.633995 \r\nL 73.229319 116.23063 \r\nL 73.259756 116.240748 \r\nL 73.497161 116.262776 \r\nL 73.631082 116.262889 \r\nL 74.071398 116.263239 \r\nL 74.785643 116.262508 \r\nL 75.023048 116.261481 \r\nL 75.163056 116.25635 \r\nL 75.165085 116.258093 \r\nL 75.294948 116.263475 \r\nL 75.627721 116.265021 \r\nL 76.26486 116.260695 \r\nL 76.390664 116.258377 \r\nL 76.392693 116.260389 \r\nL 76.654448 116.263192 \r\nL 76.906057 116.26421 \r\nL 77.620301 116.260629 \r\nL 77.780601 116.265177 \r\nL 78.492816 116.263224 \r\nL 78.677465 116.262692 \r\nL 78.987918 116.265934 \r\nL 79.227352 116.262707 \r\nL 79.424175 116.264593 \r\nL 79.923335 116.26197 \r\nL 80.087692 116.261707 \r\nL 80.25205 116.263901 \r\nL 80.477281 116.266809 \r\nL 81.230078 116.262888 \r\nL 81.402552 116.263955 \r\nL 82.001138 116.264443 \r\nL 82.388697 116.258211 \r\nL 83.376871 116.26217 \r\nL 84.858117 116.264776 \r\nL 85.296404 116.262554 \r\nL 85.838174 116.266348 \r\nL 86.183122 116.262494 \r\nL 86.357625 116.263674 \r\nL 86.86693 116.261823 \r\nL 87.272751 116.263808 \r\nL 87.536535 116.260659 \r\nL 90.482794 116.261533 \r\nL 90.647152 116.263461 \r\nL 91.142253 116.265031 \r\nL 91.529812 116.264494 \r\nL 91.722577 116.261687 \r\nL 92.520015 116.260755 \r\nL 92.64582 116.260514 \r\nL 92.647849 116.262729 \r\nL 93.078019 116.264824 \r\nL 93.284988 116.262039 \r\nL 94.295482 116.264068 \r\nL 94.490276 116.261694 \r\nL 94.77435 116.263165 \r\nL 95.167997 116.26459 \r\nL 95.368878 116.257297 \r\nL 95.594109 116.262638 \r\nL 98.822414 116.258189 \r\nL 98.978655 116.264638 \r\nL 101.431842 116.261165 \r\nL 101.632723 116.263477 \r\nL 101.943176 116.264176 \r\nL 102.135941 116.262193 \r\nL 102.294211 116.262634 \r\nL 102.582344 116.262119 \r\nL 102.858302 116.261596 \r\nL 103.069329 116.26288 \r\nL 103.310793 116.262194 \r\nL 103.688206 116.258543 \r\nL 103.805894 116.269104 \r\nL 103.811982 116.261475 \r\nL 104.367956 116.251461 \r\nL 104.501877 116.282788 \r\nL 104.763632 116.266376 \r\nL 106.490399 116.263987 \r\nL 106.616204 116.26659 \r\nL 107.415671 116.266683 \r\nL 107.752502 116.263211 \r\nL 108.089334 116.262026 \r\nL 108.27804 116.264839 \r\nL 111.70114 116.233214 \r\nL 111.749838 116.197051 \r\nL 111.782304 116.32766 \r\nL 111.798537 116.348372 \r\nL 112.037971 116.264693 \r\nL 112.210445 116.273381 \r\nL 112.214503 116.257779 \r\nL 112.384948 116.247318 \r\nL 112.591916 116.264583 \r\nL 112.871933 116.261705 \r\nL 113.046436 116.259283 \r\nL 113.42182 116.265493 \r\nL 113.752564 116.267696 \r\nL 113.902718 116.260831 \r\nL 113.904747 116.262946 \r\nL 115.036987 116.262052 \r\nL 115.146559 116.264618 \r\nL 115.152646 116.272058 \r\nL 116.465477 116.263795 \r\nL 116.599398 116.268064 \r\nL 116.891589 116.265179 \r\nL 117.13711 116.267912 \r\nL 131.908991 116.231988 \r\nL 131.929282 112.647059 \r\nL 131.953631 94.531723 \r\nL 132.016533 136.869162 \r\nL 132.04697 144.354557 \r\nL 132.083494 117.935212 \r\nL 132.130163 108.233025 \r\nL 132.203211 113.576522 \r\nL 132.302637 116.66574 \r\nL 132.351335 116.50451 \r\nL 132.479169 116.23285 \r\nL 132.517722 116.251109 \r\nL 133.319218 116.264631 \r\nL 133.459226 116.263496 \r\nL 133.810262 116.262328 \r\nL 135.039899 116.263463 \r\nL 135.289479 116.264259 \r\nL 135.985461 116.262278 \r\nL 136.571873 116.260769 \r\nL 136.75855 116.263969 \r\nL 137.117702 116.263013 \r\nL 137.381485 116.261942 \r\nL 137.519464 116.259529 \r\nL 137.521494 116.261562 \r\nL 137.730491 116.261966 \r\nL 138.605035 116.263639 \r\nL 138.724752 116.258245 \r\nL 139.037235 116.265043 \r\nL 140.61182 116.271107 \r\nL 140.774148 116.262013 \r\nL 140.932418 116.256123 \r\nL 140.934447 116.2594 \r\nL 141.171852 116.262481 \r\nL 141.283453 116.261382 \r\nL 141.287511 116.263872 \r\nL 142.837747 116.263952 \r\nL 142.985872 116.262235 \r\nL 143.241539 116.264519 \r\nL 143.414013 116.257026 \r\nL 143.612865 116.265312 \r\nL 144.164781 116.263091 \r\nL 144.436681 116.263178 \r\nL 144.605097 116.258449 \r\nL 144.607126 116.262985 \r\nL 144.741047 116.263154 \r\nL 145.242236 116.26015 \r\nL 145.363982 116.256841 \r\nL 145.36804 116.261522 \r\nL 145.546602 116.265931 \r\nL 145.548631 116.262909 \r\nL 145.672406 116.258706 \r\nL 145.676464 116.262871 \r\nL 146.092431 116.26004 \r\nL 146.214177 116.261755 \r\nL 146.216206 116.264024 \r\nL 147.15974 116.265382 \r\nL 147.342359 116.260782 \r\nL 147.882101 116.264267 \r\nL 148.831722 116.2636 \r\nL 149.01637 116.268208 \r\nL 149.018399 116.265322 \r\nL 149.134058 116.26464 \r\nL 149.338998 116.266004 \r\nL 149.564228 116.260774 \r\nL 151.489848 116.266032 \r\nL 152.082347 116.258316 \r\nL 152.260908 116.263076 \r\nL 152.583536 116.266072 \r\nL 152.73166 116.265188 \r\nL 153.048201 116.265133 \r\nL 153.234878 116.262946 \r\nL 153.557506 116.261601 \r\nL 153.725922 116.264121 \r\nL 153.967385 116.264143 \r\nL 154.263634 116.262361 \r\nL 154.442195 116.26013 \r\nL 155.172673 116.26773 \r\nL 155.649513 116.255678 \r\nL 155.781404 116.259085 \r\nL 155.665745 116.277567 \r\nL 155.785463 116.262765 \r\nL 155.990402 116.256089 \r\nL 156.126352 116.261802 \r\nL 157.414833 116.260978 \r\nL 157.538609 116.26477 \r\nL 157.814567 116.262724 \r\nL 157.991099 116.25736 \r\nL 158.360396 116.254819 \r\nL 158.364454 116.28076 \r\nL 158.368513 116.298058 \r\nL 158.394891 116.218039 \r\nL 158.474026 116.266462 \r\nL 158.818974 116.257436 \r\nL 161.619138 116.264169 \r\nL 161.822048 116.262846 \r\nL 162.538322 116.262326 \r\nL 162.67833 116.261488 \r\nL 175.634162 116.257815 \r\nL 175.782287 116.257735 \r\nL 175.954761 116.277061 \r\nL 176.111002 116.274333 \r\nL 176.113031 116.269883 \r\nL 176.145496 116.307853 \r\nL 176.171875 115.996824 \r\nL 176.186079 105.951927 \r\nL 176.200282 121.177104 \r\nL 176.281446 116.129744 \r\nL 176.307825 113.876814 \r\nL 176.31797 109.146042 \r\nL 176.352465 123.663179 \r\nL 176.415367 116.559201 \r\nL 176.47827 113.038605 \r\nL 176.531026 115.890629 \r\nL 176.549288 116.645912 \r\nL 176.565521 114.565045 \r\nL 176.642627 116.184893 \r\nL 176.719733 116.300751 \r\nL 176.756257 116.272153 \r\nL 176.825246 116.282095 \r\nL 176.778577 116.233281 \r\nL 176.869887 116.2286 \r\nL 176.914527 116.077663 \r\nL 176.938876 116.367234 \r\nL 176.946993 116.400805 \r\nL 177.034244 116.25177 \r\nL 177.239184 116.262203 \r\nL 177.500938 116.2639 \r\nL 178.271998 116.262772 \r\nL 179.185095 116.262883 \r\nL 179.278434 116.257148 \r\nL 179.298725 116.264604 \r\nL 179.643673 116.264732 \r\nL 179.832379 116.265135 \r\nL 180.059639 116.199509 \r\nL 180.067755 113.045493 \r\nL 180.088046 95.521721 \r\nL 180.159065 135.897454 \r\nL 180.189502 143.893911 \r\nL 180.228055 116.524437 \r\nL 180.272695 108.228449 \r\nL 180.345743 113.643801 \r\nL 180.447198 116.663956 \r\nL 180.495896 116.48577 \r\nL 180.607497 116.239108 \r\nL 180.652137 116.253142 \r\nL 181.402906 116.263591 \r\nL 181.534798 116.265076 \r\nL 182.013667 116.22249 \r\nL 182.019754 116.198094 \r\nL 182.080627 116.309664 \r\nL 182.111064 116.288306 \r\nL 182.196286 116.405525 \r\nL 182.222664 116.242822 \r\nL 182.251072 116.170842 \r\nL 182.297741 116.347773 \r\nL 182.316003 116.492406 \r\nL 182.356585 116.068569 \r\nL 182.382964 116.170763 \r\nL 182.480361 116.314426 \r\nL 182.551379 116.273994 \r\nL 182.709649 116.258155 \r\nL 182.869949 116.264478 \r\nL 183.653183 116.267204 \r\nL 183.675503 116.28473 \r\nL 183.695794 116.10319 \r\nL 183.714056 113.499554 \r\nL 183.748551 117.620871 \r\nL 183.791162 116.864112 \r\nL 183.894646 116.003149 \r\nL 183.961607 116.174148 \r\nL 184.008276 116.86182 \r\nL 184.032625 115.678133 \r\nL 184.034655 115.653826 \r\nL 184.097557 116.21669 \r\nL 184.134081 116.40117 \r\nL 184.237565 116.296591 \r\nL 184.424243 116.263793 \r\nL 184.799627 116.260008 \r\nL 185.369805 116.144704 \r\nL 185.386038 106.456307 \r\nL 185.42662 94.35756 \r\nL 185.479377 116.51738 \r\nL 185.597065 130.790541 \r\nL 185.611269 130.09349 \r\nL 185.814179 102.453301 \r\nL 185.877081 110.24249 \r\nL 185.988682 116.962323 \r\nL 186.031293 116.69977 \r\nL 186.183476 116.227076 \r\nL 186.195651 116.234048 \r\nL 188.973495 116.263322 \r\nL 189.091183 116.253782 \r\nL 190.101677 116.261625 \r\nL 190.580545 116.263402 \r\nL 190.759107 116.262725 \r\nL 191.083763 116.263972 \r\nL 191.789892 116.261628 \r\nL 192.250498 116.26098 \r\nL 192.390507 116.264551 \r\nL 195.068924 116.265084 \r\nL 195.249515 116.263155 \r\nL 195.399668 116.261906 \r\nL 196.278271 116.263256 \r\nL 196.493356 116.263889 \r\nL 196.653655 116.261392 \r\nL 196.807867 116.390843 \r\nL 196.832216 116.217717 \r\nL 196.850478 116.155355 \r\nL 196.911351 116.281708 \r\nL 196.923526 116.284997 \r\nL 197.039185 116.262348 \r\nL 197.221804 116.269112 \r\nL 197.371958 116.264271 \r\nL 197.530228 116.26037 \r\nL 197.885321 116.264786 \r\nL 198.179542 116.262199 \r\nL 198.676672 116.262357 \r\nL 198.814651 116.262921 \r\nL 199.476139 116.263495 \r\nL 199.756156 116.082561 \r\nL 199.764272 115.615078 \r\nL 199.79065 116.87081 \r\nL 199.865727 116.105946 \r\nL 199.888048 116.087477 \r\nL 199.948921 116.181858 \r\nL 200.050376 116.367411 \r\nL 200.088929 116.247182 \r\nL 200.168064 116.122528 \r\nL 200.20053 116.257571 \r\nL 200.263432 116.32146 \r\nL 200.281694 116.236529 \r\nL 200.320247 116.30016 \r\nL 200.326334 116.247177 \r\nL 200.433877 116.263171 \r\nL 200.484604 116.311005 \r\nL 200.515041 116.163837 \r\nL 200.51707 116.160867 \r\nL 200.535332 116.312405 \r\nL 200.541419 116.403117 \r\nL 200.567797 116.05004 \r\nL 200.646933 116.324526 \r\nL 200.655049 116.156297 \r\nL 200.679398 116.457676 \r\nL 200.762592 116.217807 \r\nL 200.843756 115.860634 \r\nL 200.803174 116.315029 \r\nL 200.868105 116.169702 \r\nL 200.894483 116.933543 \r\nL 200.955356 115.654621 \r\nL 200.96956 115.717037 \r\nL 201.180587 116.409146 \r\nL 201.194791 116.298936 \r\nL 201.208994 116.133667 \r\nL 201.229286 116.495645 \r\nL 201.292188 116.399593 \r\nL 201.296246 116.446334 \r\nL 201.33277 115.990826 \r\nL 201.387556 116.273465 \r\nL 201.415963 116.002625 \r\nL 201.417992 115.963423 \r\nL 201.42408 116.649651 \r\nL 201.515389 116.207969 \r\nL 201.631048 116.294446 \r\nL 201.566117 116.117169 \r\nL 201.67163 116.258143 \r\nL 201.673659 116.227093 \r\nL 201.728445 116.279691 \r\nL 201.781202 116.26808 \r\nL 202.6456 116.264022 \r\nL 202.85054 116.268693 \r\nL 202.978374 116.250288 \r\nL 202.992577 116.266371 \r\nL 203.140702 116.266994 \r\nL 203.311147 116.259843 \r\nL 203.686531 116.264098 \r\nL 203.940169 116.26643 \r\nL 203.950315 116.336093 \r\nL 204.047712 116.237631 \r\nL 204.451503 116.260508 \r\nL 204.64021 116.266616 \r\nL 206.600325 116.287202 \r\nL 206.659169 116.24595 \r\nL 206.709897 116.269391 \r\nL 206.776857 116.234085 \r\nL 206.831643 116.273167 \r\nL 206.985855 116.271605 \r\nL 206.987884 116.268642 \r\nL 207.073106 116.231257 \r\nL 207.111659 116.266561 \r\nL 207.689954 116.26635 \r\nL 207.878661 116.256802 \r\nL 207.945621 116.373568 \r\nL 207.951709 116.461106 \r\nL 208.045047 116.187434 \r\nL 208.047076 116.189171 \r\nL 208.254045 116.250859 \r\nL 210.368372 116.275703 \r\nL 210.479973 116.258664 \r\nL 211.169868 116.289184 \r\nL 211.202334 116.324302 \r\nL 211.177985 116.280422 \r\nL 211.275382 116.238492 \r\nL 211.423506 116.247577 \r\nL 211.431623 116.279489 \r\nL 211.524961 116.298325 \r\nL 211.468147 116.242221 \r\nL 211.541194 116.262408 \r\nL 211.742076 116.268115 \r\nL 211.989626 116.264637 \r\nL 213.797558 116.262235 \r\nL 213.931479 116.264191 \r\nL 213.933508 116.262248 \r\nL 214.083662 116.256279 \r\nL 214.085691 116.258255 \r\nL 214.211496 116.266546 \r\nL 214.483396 116.264622 \r\nL 214.706597 116.263495 \r\nL 215.142855 116.26419 \r\nL 215.422871 116.264345 \r\nL 215.601432 116.265872 \r\nL 216.088417 116.265178 \r\nL 216.549024 116.263472 \r\nL 217.445888 116.268501 \r\nL 217.94099 116.261834 \r\nL 218.1439 116.264416 \r\nL 219.681961 116.264411 \r\nL 219.846319 116.262949 \r\nL 220.193296 116.266014 \r\nL 220.497661 116.27439 \r\nL 220.601146 116.262703 \r\nL 220.611291 116.254141 \r\nL 220.832463 116.265121 \r\nL 222.056013 116.277644 \r\nL 222.084421 116.355788 \r\nL 222.13109 116.138062 \r\nL 222.163556 116.233883 \r\nL 222.317768 116.270283 \r\nL 222.368496 116.231893 \r\nL 222.409078 116.329105 \r\nL 222.431398 116.34427 \r\nL 222.467922 116.219525 \r\nL 222.492271 116.228986 \r\nL 222.514591 116.180129 \r\nL 222.589668 116.30534 \r\nL 222.591697 116.312069 \r\nL 222.646483 116.211102 \r\nL 222.683007 116.234236 \r\nL 222.881859 116.279608 \r\nL 223.251156 116.2782 \r\nL 223.253185 116.292577 \r\nL 223.26536 116.383045 \r\nL 223.356669 116.217595 \r\nL 223.360728 116.209622 \r\nL 223.42363 116.266794 \r\nL 223.460154 116.260411 \r\nL 224.024245 116.263143 \r\nL 224.182515 116.259076 \r\nL 224.417891 116.263273 \r\nL 224.596452 116.261878 \r\nL 225.487229 116.264607 \r\nL 226.223794 116.263369 \r\nL 227.826786 116.261755 \r\nL 227.950562 116.259334 \r\nL 227.952591 116.257117 \r\nL 228.380732 116.254573 \r\nL 228.433489 116.273735 \r\nL 228.492333 116.254204 \r\nL 231.128139 116.261228 \r\nL 231.251915 116.257213 \r\nL 231.258002 116.262727 \r\nL 231.509611 116.260952 \r\nL 232.07776 116.264271 \r\nL 232.229943 116.259703 \r\nL 232.453145 116.262329 \r\nL 232.572862 116.26406 \r\nL 232.574891 116.26531 \r\nL 232.822442 116.261146 \r\nL 233.445377 116.263986 \r\nL 233.567123 116.262636 \r\nL 233.569152 116.265472 \r\nL 233.826848 116.262938 \r\nL 234.259048 116.261887 \r\nL 234.441667 116.263038 \r\nL 235.050398 116.262211 \r\nL 235.478539 116.262842 \r\nL 235.665217 116.262972 \r\nL 236.253657 116.262795 \r\nL 236.442364 116.310771 \r\nL 236.462655 116.259457 \r\nL 236.484975 116.218704 \r\nL 236.566139 116.301948 \r\nL 236.588459 116.322397 \r\nL 236.61078 116.25181 \r\nL 236.665565 116.253029 \r\nL 236.937465 116.271616 \r\nL 237.089648 116.265584 \r\nL 237.091677 116.261719 \r\nL 237.182987 116.254683 \r\nL 237.207336 116.266924 \r\nL 238.447119 116.264651 \r\nL 238.483643 116.341185 \r\nL 238.530312 116.216674 \r\nL 238.550603 116.229462 \r\nL 238.562778 116.189883 \r\nL 238.58104 116.318116 \r\nL 238.656117 116.266989 \r\nL 238.704815 115.994546 \r\nL 238.712932 116.314391 \r\nL 238.723077 116.03723 \r\nL 238.741339 59.452692 \r\nL 238.798154 136.108133 \r\nL 238.834678 147.404126 \r\nL 238.889464 123.735714 \r\nL 238.942221 102.580734 \r\nL 239.01121 111.271739 \r\nL 239.112665 116.93611 \r\nL 239.161364 116.674148 \r\nL 239.303401 116.217716 \r\nL 239.331809 116.234238 \r\nL 239.711251 116.261132 \r\nL 240.788706 116.176968 \r\nL 240.794793 116.115791 \r\nL 240.829288 116.367471 \r\nL 240.867841 116.314584 \r\nL 241.020024 116.254884 \r\nL 241.295982 116.264429 \r\nL 247.129657 116.264169 \r\nL 247.306189 116.26316 \r\nL 247.705923 116.264328 \r\nL 248.002172 116.263023 \r\nL 248.495244 116.264623 \r\nL 248.9802 116.262009 \r\nL 250.126644 116.262001 \r\nL 250.307235 116.263976 \r\nL 252.845644 116.264531 \r\nL 252.96739 116.264193 \r\nL 253.62482 116.266291 \r\nL 254.063107 116.264783 \r\nL 254.367473 116.266811 \r\nL 254.746915 116.22127 \r\nL 254.775323 115.717155 \r\nL 254.80373 92.205958 \r\nL 254.815905 69.798035 \r\nL 254.897069 142.702463 \r\nL 254.911273 144.4097 \r\nL 254.966058 133.168719 \r\nL 255.087805 101.204578 \r\nL 255.162881 111.698553 \r\nL 255.209551 115.913657 \r\nL 255.219696 107.303946 \r\nL 255.2339 68.377565 \r\nL 255.315064 150.361998 \r\nL 255.333326 150.758604 \r\nL 255.339414 146.539215 \r\nL 255.408403 104.079963 \r\nL 255.475364 109.163543 \r\nL 255.52812 126.132533 \r\nL 255.532178 99.351762 \r\nL 255.534208 99.596331 \r\nL 255.548411 27.682074 \r\nL 255.599139 162.67643 \r\nL 255.643779 100.277367 \r\nL 255.712769 135.122818 \r\nL 255.767555 122.999121 \r\nL 255.779729 121.723985 \r\nL 255.787846 124.381784 \r\nL 255.80002 135.613355 \r\nL 255.832486 85.249659 \r\nL 255.901475 128.930547 \r\nL 255.909592 103.539135 \r\nL 256.006989 129.666579 \r\nL 256.011047 129.229134 \r\nL 256.043513 132.465399 \r\nL 256.059746 117.962027 \r\nL 256.080037 93.949768 \r\nL 256.169317 118.534535 \r\nL 256.234249 122.09097 \r\nL 256.246423 116.115387 \r\nL 256.313384 112.8005 \r\nL 256.339762 120.30696 \r\nL 256.341791 120.316695 \r\nL 256.351937 119.909867 \r\nL 256.443246 114.446932 \r\nL 256.516294 115.484717 \r\nL 256.674564 116.583026 \r\nL 256.540643 115.465393 \r\nL 256.709059 116.518729 \r\nL 256.847038 116.157845 \r\nL 256.873416 116.218138 \r\nL 257.043861 116.298654 \r\nL 257.04589 116.296486 \r\nL 257.208219 116.201606 \r\nL 257.212277 116.308529 \r\nL 257.216335 116.45613 \r\nL 257.244743 116.185448 \r\nL 257.321849 116.300738 \r\nL 257.756077 116.242532 \r\nL 257.760135 116.324305 \r\nL 257.790572 116.781738 \r\nL 257.86159 116.058505 \r\nL 257.889998 115.994923 \r\nL 257.938696 116.206737 \r\nL 257.950871 116.185641 \r\nL 258.441914 116.277839 \r\nL 258.614388 131.466136 \r\nL 258.51902 112.782763 \r\nL 258.620475 125.831988 \r\nL 258.673232 101.154161 \r\nL 258.744251 110.967878 \r\nL 258.803095 115.999216 \r\nL 258.827444 107.512325 \r\nL 258.853822 94.968183 \r\nL 258.922812 123.096598 \r\nL 258.955278 127.327517 \r\nL 259.022238 120.496553 \r\nL 259.13181 115.567885 \r\nL 259.190654 116.510859 \r\nL 259.233265 116.883769 \r\nL 259.302255 116.543209 \r\nL 259.397622 116.263259 \r\nL 259.454437 116.308037 \r\nL 259.580242 116.276068 \r\nL 259.5843 116.259544 \r\nL 259.594446 116.233328 \r\nL 259.681697 116.321965 \r\nL 259.683726 116.320066 \r\nL 260.046936 116.023558 \r\nL 260.089547 113.377716 \r\nL 260.130129 116.7687 \r\nL 260.146362 116.430805 \r\nL 260.152449 116.368533 \r\nL 260.199119 116.778862 \r\nL 260.235643 116.774931 \r\nL 260.24173 116.825746 \r\nL 260.294487 116.307592 \r\nL 260.300574 115.855665 \r\nL 260.381738 116.908525 \r\nL 260.395942 116.761988 \r\nL 260.537979 116.071393 \r\nL 260.554212 116.0554 \r\nL 260.621172 116.164019 \r\nL 260.751035 116.273943 \r\nL 260.773355 116.245746 \r\nL 260.937713 116.282176 \r\nL 260.953946 116.257475 \r\nL 261.081779 116.25849 \r\nL 261.434843 116.27018 \r\nL 261.605288 116.26171 \r\nL 261.767616 116.259505 \r\nL 261.925887 116.265663 \r\nL 262.201845 116.264042 \r\nL 262.341853 116.265926 \r\nL 263.303648 116.262496 \r\nL 263.449744 116.264178 \r\nL 263.725702 116.266629 \r\nL 263.851507 116.263435 \r\nL 263.853536 116.264732 \r\nL 264.18428 116.264463 \r\nL 264.336463 116.26586 \r\nL 264.719963 116.261021 \r\nL 264.84171 116.258888 \r\nL 264.979689 116.265128 \r\nL 265.462616 116.267036 \r\nL 265.805534 116.351955 \r\nL 265.842058 125.074169 \r\nL 265.896844 114.209788 \r\nL 265.933368 104.36698 \r\nL 265.99627 115.911561 \r\nL 266.046998 119.159221 \r\nL 266.115987 117.463055 \r\nL 266.260054 116.210967 \r\nL 266.266141 116.21644 \r\nL 266.503546 116.267206 \r\nL 266.505575 116.264291 \r\nL 266.623263 116.260481 \r\nL 266.763272 116.272926 \r\nL 266.826174 116.347037 \r\nL 266.85661 125.517416 \r\nL 266.9256 115.796578 \r\nL 266.951978 98.50259 \r\nL 267.031113 118.337617 \r\nL 267.065608 120.180221 \r\nL 267.136627 117.68464 \r\nL 267.248227 116.154544 \r\nL 267.284751 116.229334 \r\nL 267.386207 116.315912 \r\nL 267.432876 116.284194 \r\nL 267.585059 116.271386 \r\nL 267.787969 116.274713 \r\nL 268.059869 116.277264 \r\nL 268.183645 116.27139 \r\nL 268.605698 116.260273 \r\nL 268.690921 116.265627 \r\nL 268.719328 116.258265 \r\nL 268.865424 116.25638 \r\nL 268.940501 116.183533 \r\nL 268.956733 116.303625 \r\nL 268.960792 116.332958 \r\nL 269.05413 116.254719 \r\nL 269.064276 116.268026 \r\nL 269.200226 116.271005 \r\nL 269.206313 116.265965 \r\nL 270.028101 116.265835 \r\nL 270.1884 116.264254 \r\nL 270.498853 116.255777 \r\nL 270.744374 116.210991 \r\nL 270.764665 116.187415 \r\nL 270.829597 116.272186 \r\nL 270.839742 116.274286 \r\nL 270.89047 116.328974 \r\nL 270.95743 116.284268 \r\nL 271.284116 116.272069 \r\nL 271.497172 116.262164 \r\nL 271.667617 116.25459 \r\nL 271.669646 116.257236 \r\nL 272.357512 116.264044 \r\nL 272.623325 116.261679 \r\nL 272.889138 116.259413 \r\nL 276.709941 116.262292 \r\nL 276.789077 116.328534 \r\nL 276.734291 116.188537 \r\nL 276.823571 116.287729 \r\nL 276.914881 116.200337 \r\nL 276.975754 116.27346 \r\nL 277.093442 116.270049 \r\nL 281.531094 116.135288 \r\nL 281.541239 116.073725 \r\nL 281.577763 116.610214 \r\nL 281.636607 123.630083 \r\nL 281.665015 114.154256 \r\nL 281.713713 111.700436 \r\nL 281.687335 121.040764 \r\nL 281.762412 115.165181 \r\nL 281.825314 116.982416 \r\nL 281.898362 116.57421 \r\nL 281.936914 116.457364 \r\nL 282.147941 116.210527 \r\nL 282.160116 116.227887 \r\nL 282.35491 116.274186 \r\nL 282.49086 116.25397 \r\nL 282.697829 116.275671 \r\nL 282.837837 116.27497 \r\nL 282.845953 116.291676 \r\nL 282.892623 116.249444 \r\nL 282.947409 116.244701 \r\nL 282.96567 116.243284 \r\nL 282.992049 116.353619 \r\nL 282.996107 116.361835 \r\nL 283.044806 116.226708 \r\nL 283.075242 116.233592 \r\nL 283.207134 116.249797 \r\nL 283.221338 116.22821 \r\nL 283.361346 116.256934 \r\nL 283.523674 116.255706 \r\nL 283.525703 116.249588 \r\nL 283.681944 116.260872 \r\nL 283.686003 116.266684 \r\nL 283.698177 116.282569 \r\nL 283.740788 116.142184 \r\nL 283.765138 115.855692 \r\nL 283.834127 116.340447 \r\nL 283.870651 116.468904 \r\nL 283.943699 116.33593 \r\nL 284.114144 116.267141 \r\nL 284.116173 116.269136 \r\nL 284.493586 116.252811 \r\nL 284.59707 116.262197 \r\nL 284.505761 116.261734 \r\nL 284.607216 116.267803 \r\nL 284.728962 116.262426 \r\nL 284.730991 116.25177 \r\nL 284.848679 114.637438 \r\nL 284.767515 116.265144 \r\nL 284.885203 115.798457 \r\nL 285.021153 128.502656 \r\nL 285.090143 125.904681 \r\nL 285.110434 127.930295 \r\nL 285.116521 123.630242 \r\nL 285.167249 99.730052 \r\nL 285.238267 110.483533 \r\nL 285.337694 117.086079 \r\nL 285.388421 116.735089 \r\nL 285.530458 116.223191 \r\nL 285.558866 116.23357 \r\nL 285.696845 116.262122 \r\nL 286.131073 116.262711 \r\nL 286.861551 116.278073 \r\nL 286.971123 116.268128 \r\nL 286.875755 116.266601 \r\nL 286.97721 116.248683 \r\nL 286.987355 116.256143 \r\nL 287.086782 116.268609 \r\nL 287.616378 116.259219 \r\nL 287.807114 116.262687 \r\nL 288.184527 116.263283 \r\nL 288.363088 116.264773 \r\nL 288.365117 116.261445 \r\nL 289.178788 116.261018 \r\nL 289.268069 116.306547 \r\nL 289.28836 115.294091 \r\nL 289.300534 54.770617 \r\nL 289.389815 150.694071 \r\nL 289.391844 150.611293 \r\nL 289.408077 142.595796 \r\nL 289.430397 101.650793 \r\nL 289.519678 131.50787 \r\nL 289.535911 133.109996 \r\nL 289.570405 126.710414 \r\nL 289.580551 85.600469 \r\nL 289.677948 133.761425 \r\nL 289.679977 133.608638 \r\nL 289.69621 118.62865 \r\nL 289.716501 88.604334 \r\nL 289.801723 134.44067 \r\nL 289.80984 134.634361 \r\nL 289.850422 133.584405 \r\nL 289.911295 100.878051 \r\nL 289.980284 110.747369 \r\nL 290.083769 117.028104 \r\nL 290.130438 116.717914 \r\nL 290.270446 116.212595 \r\nL 290.294796 116.234495 \r\nL 290.520026 116.262441 \r\nL 291.142961 116.263988 \r\nL 291.396599 116.264822 \r\nL 291.660383 116.24079 \r\nL 291.66647 116.256363 \r\nL 291.82474 116.26251 \r\nL 292.758128 116.227424 \r\nL 292.772332 116.296111 \r\nL 292.77639 115.916048 \r\nL 292.790594 112.710335 \r\nL 292.804798 117.907804 \r\nL 292.885962 116.176992 \r\nL 292.894078 116.230902 \r\nL 292.946835 116.100071 \r\nL 292.997563 116.17894 \r\nL 293.168008 116.275015 \r\nL 293.170037 116.27278 \r\nL 293.291783 116.264702 \r\nL 294.137919 116.260552 \r\nL 294.257637 116.263227 \r\nL 294.710127 116.267899 \r\nL 294.97391 116.264253 \r\nL 294.97594 116.252517 \r\nL 295.06522 116.16199 \r\nL 295.000289 116.286254 \r\nL 295.099715 116.247488 \r\nL 295.268131 116.320385 \r\nL 295.367557 116.362559 \r\nL 295.335091 116.250935 \r\nL 295.38379 116.298691 \r\nL 295.434517 116.142303 \r\nL 295.505536 116.277925 \r\nL 295.905269 116.34544 \r\nL 295.998608 116.392583 \r\nL 295.941793 116.189055 \r\nL 296.014841 116.364598 \r\nL 296.091947 115.955939 \r\nL 296.128471 116.320912 \r\nL 296.146733 116.405475 \r\nL 296.215722 116.240022 \r\nL 296.296887 116.098526 \r\nL 296.248188 116.371323 \r\nL 296.315149 116.37009 \r\nL 296.422691 116.568213 \r\nL 296.384138 115.881315 \r\nL 296.430807 116.553957 \r\nL 296.467331 116.375936 \r\nL 296.544437 116.205113 \r\nL 296.593136 116.241055 \r\nL 296.800104 116.262971 \r\nL 296.802134 116.253254 \r\nL 296.919822 116.035482 \r\nL 296.867065 116.33224 \r\nL 296.948229 116.060108 \r\nL 297.000986 116.377649 \r\nL 297.045626 115.871072 \r\nL 297.049684 115.835339 \r\nL 297.080121 116.48722 \r\nL 297.100412 116.629018 \r\nL 297.177518 116.403014 \r\nL 297.193751 116.523524 \r\nL 297.256653 116.151524 \r\nL 297.339846 116.075947 \r\nL 297.295206 116.175857 \r\nL 297.368254 116.138306 \r\nL 297.475796 116.287228 \r\nL 297.508262 116.262708 \r\nL 297.642183 116.267375 \r\nL 297.646241 116.261185 \r\nL 297.847122 116.263021 \r\nL 298.080469 116.264388 \r\nL 298.194099 116.267285 \r\nL 298.317875 116.258369 \r\nL 298.321933 116.25511 \r\nL 298.480203 116.255798 \r\nL 298.484261 116.262004 \r\nL 298.703404 116.273225 \r\nL 299.218797 116.266054 \r\nL 299.391271 116.270995 \r\nL 299.630705 116.262784 \r\nL 299.809266 116.243652 \r\nL 299.84579 116.302321 \r\nL 299.855936 116.702474 \r\nL 299.894489 114.927654 \r\nL 299.9371 115.78531 \r\nL 299.951304 48.44717 \r\nL 300.016235 144.836173 \r\nL 300.032468 147.886266 \r\nL 300.09537 133.683084 \r\nL 300.184651 101.299622 \r\nL 300.288135 114.843988 \r\nL 300.359154 117.004887 \r\nL 300.420027 116.571759 \r\nL 300.523511 116.222739 \r\nL 300.576268 116.237853 \r\nL 300.767004 116.270165 \r\nL 300.982089 116.236472 \r\nL 301.067311 116.214862 \r\nL 301.0247 116.297886 \r\nL 301.079486 116.29124 \r\nL 301.097748 116.314575 \r\nL 301.170795 116.252744 \r\nL 301.18297 116.249859 \r\nL 301.422404 116.262138 \r\nL 301.779527 116.290193 \r\nL 301.787643 116.253226 \r\nL 301.826196 116.140514 \r\nL 301.887069 116.351278 \r\nL 301.909389 116.394692 \r\nL 301.962146 116.181543 \r\nL 301.986495 116.263746 \r\nL 302.087951 116.263929 \r\nL 302.100125 116.217982 \r\nL 302.199551 116.242529 \r\nL 302.122445 116.269097 \r\nL 302.205639 116.266922 \r\nL 302.262454 116.305007 \r\nL 302.244192 116.203857 \r\nL 302.323327 116.259381 \r\nL 302.378113 116.306416 \r\nL 302.438986 116.262305 \r\nL 302.52015 116.245686 \r\nL 302.524208 116.203343 \r\nL 302.528266 116.165035 \r\nL 302.599285 116.292957 \r\nL 302.627692 116.294727 \r\nL 302.88336 116.281182 \r\nL 303.009164 116.259748 \r\nL 303.013222 116.254896 \r\nL 303.151201 116.265258 \r\nL 303.410927 116.26614 \r\nL 303.701089 116.392507 \r\nL 303.709205 116.570669 \r\nL 303.739642 116.168073 \r\nL 303.804573 116.245596 \r\nL 303.906028 116.388693 \r\nL 303.820806 116.13885 \r\nL 303.938494 116.229829 \r\nL 303.948639 116.168831 \r\nL 303.96893 116.328687 \r\nL 304.046036 116.252294 \r\nL 304.342286 116.263131 \r\nL 305.699757 116.261233 \r\nL 305.878318 116.268798 \r\nL 306.233411 116.264043 \r\nL 306.698076 116.263892 \r\nL 306.834026 116.265568 \r\nL 308.396436 116.169458 \r\nL 308.400495 116.147337 \r\nL 308.483688 116.414563 \r\nL 308.485717 116.416132 \r\nL 308.508037 116.298604 \r\nL 308.583114 116.204309 \r\nL 308.641958 116.249701 \r\nL 308.725151 116.316239 \r\nL 308.765733 116.267686 \r\nL 308.822548 116.232696 \r\nL 308.885451 116.270658 \r\nL 309.064012 116.262251 \r\nL 310.886147 116.264255 \r\nL 310.959195 116.249783 \r\nL 310.999777 116.267792 \r\nL 311.19863 116.264106 \r\nL 311.458355 116.264919 \r\nL 311.805332 116.264959 \r\nL 311.941282 116.262625 \r\nL 312.140134 116.2656 \r\nL 312.458703 116.263574 \r\nL 312.645381 116.265369 \r\nL 312.96598 116.267483 \r\nL 313.556449 116.263597 \r\nL 313.670079 116.254283 \r\nL 313.678195 116.261595 \r\nL 314.063725 116.264536 \r\nL 315.18582 116.345629 \r\nL 315.191907 116.374566 \r\nL 315.220315 116.207777 \r\nL 315.279159 116.216812 \r\nL 315.293362 116.176579 \r\nL 315.342061 116.317901 \r\nL 315.354235 116.299916 \r\nL 315.390759 116.312489 \r\nL 315.413079 116.206806 \r\nL 315.417138 116.167323 \r\nL 315.447574 116.359467 \r\nL 315.518593 116.289384 \r\nL 316.31806 116.256325 \r\nL 316.472272 116.265092 \r\nL 316.474301 116.262067 \r\nL 316.583873 116.262274 \r\nL 316.58996 116.264799 \r\nL 316.701561 116.256301 \r\nL 316.709677 116.264715 \r\nL 316.869976 116.254318 \r\nL 317.484795 116.275751 \r\nL 317.628862 116.263213 \r\nL 317.85815 116.264579 \r\nL 318.050915 116.265684 \r\nL 318.523697 116.262708 \r\nL 318.769218 116.260388 \r\nL 318.848353 116.249434 \r\nL 318.817917 116.282742 \r\nL 318.882848 116.266067 \r\nL 323.111502 116.339705 \r\nL 323.119618 116.371109 \r\nL 323.1602 116.139153 \r\nL 323.223102 116.33035 \r\nL 323.375285 116.260931 \r\nL 323.490944 116.26809 \r\nL 323.385431 116.248555 \r\nL 323.503119 116.256965 \r\nL 323.647185 116.258104 \r\nL 323.99822 116.256768 \r\nL 324.197073 116.264695 \r\nL 324.574486 116.265048 \r\nL 325.207567 116.257079 \r\nL 325.302935 116.254449 \r\nL 325.325255 116.273376 \r\nL 325.716872 116.260853 \r\nL 325.938044 116.264886 \r\nL 326.232264 116.263243 \r\nL 326.928247 116.097709 \r\nL 326.934334 115.913755 \r\nL 326.950567 116.561272 \r\nL 327.031731 116.319096 \r\nL 327.037819 116.338869 \r\nL 327.110867 116.202973 \r\nL 327.121012 116.206129 \r\nL 327.658725 116.262705 \r\nL 328.216728 116.270535 \r\nL 328.340504 116.270787 \r\nL 328.624578 116.272181 \r\nL 329.109534 116.261408 \r\nL 329.30027 116.262816 \r\nL 329.551879 116.262497 \r\nL 330.059155 116.263338 \r\nL 330.186989 116.257876 \r\nL 330.385841 116.263261 \r\nL 331.796069 116.293266 \r\nL 331.850855 116.262206 \r\nL 331.901582 116.258269 \r\nL 332.057823 116.256462 \r\nL 332.059852 116.25882 \r\nL 332.189715 116.268737 \r\nL 332.191744 116.267449 \r\nL 332.83497 116.264469 \r\nL 332.977007 116.259146 \r\nL 332.979037 116.261627 \r\nL 333.171802 116.264349 \r\nL 333.397032 116.263623 \r\nL 334.147801 116.263393 \r\nL 334.610437 116.259132 \r\nL 334.801172 116.261307 \r\nL 336.34735 116.265523 \r\nL 337.520172 116.263631 \r\nL 337.629744 116.261198 \r\nL 337.63786 116.26596 \r\nL 338.36428 116.263539 \r\nL 338.512404 116.263677 \r\nL 341.894921 116.259914 \r\nL 342.221607 116.267184 \r\nL 342.379877 116.258595 \r\nL 342.816135 116.265223 \r\nL 343.041365 116.26422 \r\nL 343.276742 116.262265 \r\nL 343.422837 116.264861 \r\nL 343.786047 116.262385 \r\nL 343.948375 116.264983 \r\nL 343.954462 116.256704 \r\nL 344.337963 116.264455 \r\nL 344.555077 116.265645 \r\nL 344.855385 116.260252 \r\nL 344.975102 116.261592 \r\nL 345.701521 116.263281 \r\nL 345.961247 116.26503 \r\nL 346.614618 116.262226 \r\nL 346.718103 116.256006 \r\nL 346.653171 116.281074 \r\nL 346.726219 116.264987 \r\nL 347.056963 116.259764 \r\nL 347.178709 116.264327 \r\nL 347.430318 116.265098 \r\nL 348.517918 116.262273 \r\nL 348.524006 116.264684 \r\nL 348.524006 116.264684 \r\n\" style=\"fill:none;stroke:#1f77b4;stroke-linecap:square;stroke-width:1.5;\"/>\r\n   </g>\r\n   <g id=\"patch_3\">\r\n    <path d=\"M 28.942188 235.238437 \r\nL 28.942188 17.798437 \r\n\" style=\"fill:none;stroke:#000000;stroke-linecap:square;stroke-linejoin:miter;stroke-width:0.8;\"/>\r\n   </g>\r\n   <g id=\"patch_4\">\r\n    <path d=\"M 363.742188 235.238437 \r\nL 363.742188 17.798437 \r\n\" style=\"fill:none;stroke:#000000;stroke-linecap:square;stroke-linejoin:miter;stroke-width:0.8;\"/>\r\n   </g>\r\n   <g id=\"patch_5\">\r\n    <path d=\"M 28.942188 235.238437 \r\nL 363.742187 235.238437 \r\n\" style=\"fill:none;stroke:#000000;stroke-linecap:square;stroke-linejoin:miter;stroke-width:0.8;\"/>\r\n   </g>\r\n   <g id=\"patch_6\">\r\n    <path d=\"M 28.942188 17.798437 \r\nL 363.742187 17.798437 \r\n\" style=\"fill:none;stroke:#000000;stroke-linecap:square;stroke-linejoin:miter;stroke-width:0.8;\"/>\r\n   </g>\r\n  </g>\r\n </g>\r\n <defs>\r\n  <clipPath id=\"pf411ae1a93\">\r\n   <rect height=\"217.44\" width=\"334.8\" x=\"28.942188\" y=\"17.798437\"/>\r\n  </clipPath>\r\n </defs>\r\n</svg>\r\n",
      "image/png": "[encoded data removed]"
     },
     "metadata": {
      "needs_background": "light"
     }
    }
   ],
   "source": [
    "\n",
    "plt.plot(eeg7_merged[:])\n",
    "# plt.plot(f_train[\"eeg_7\"][5])"
   ]
  },
  {
   "cell_type": "code",
   "execution_count": 7,
   "metadata": {},
   "outputs": [],
   "source": [
    "fft_sig = np.fft.fft(test)\n",
    "delta = get_amplitude_range_freq(fft_sig,0,4)\n",
    "theta = get_amplitude_range_freq(fft_sig,4,8)\n",
    "alpha = get_amplitude_range_freq(fft_sig,8,13)\n",
    "beta = get_amplitude_range_freq(fft_sig,13,22)\n",
    "gamma = get_amplitude_range_freq(fft_sig,30,len(fft_sig)//2)\n"
   ]
  },
  {
   "cell_type": "code",
   "execution_count": 6,
   "metadata": {},
   "outputs": [
    {
     "output_type": "stream",
     "name": "stdout",
     "text": [
      "2    4787\n3    2466\n4    2395\n0    1855\n1     841\ndtype: int64\n2    4662\n3    2758\n4    2438\n0    1656\n1     830\ndtype: int64\n"
     ]
    }
   ],
   "source": []
  },
  {
   "cell_type": "code",
   "execution_count": 10,
   "metadata": {},
   "outputs": [
    {
     "output_type": "stream",
     "name": "stdout",
     "text": [
      "(0.6407707412862053, 1.0)\n",
      "[[ 810    7  221   75   55]\n",
      " [ 113   17  284   32  105]\n",
      " [ 122    6 2419  321  221]\n",
      " [  69    0  449 1229    4]\n",
      " [ 108    6  660   69  746]]\n"
     ]
    }
   ],
   "source": [
    "from sklearn.ensemble import RandomForestClassifier\n",
    "from sklearn.metrics import f1_score\n",
    "from sklearn.preprocessing import MinMaxScaler\n",
    "from sklearn.metrics import confusion_matrix\n",
    "from sklearn.model_selection import train_test_split\n",
    "\n",
    "\n",
    "scaler = MinMaxScaler()\n",
    "X_scaled = scaler.fit_transform(X)\n",
    "\n",
    "\n",
    "n_test = 500\n",
    "model = RandomForestClassifier()\n",
    "\n",
    "x_train,x_test,y_train,y_test = train_test_split(X_scaled,y_train_vals,test_size=0.33,random_state =42)\n",
    "\n",
    "model.fit(x_train,y_train)\n",
    "\n",
    "sc = model.score(x_test,y_test), model.score(x_train,y_train)\n",
    "\n",
    "print(sc)\n",
    "\n",
    "print(confusion_matrix(y_test,model.predict(x_test)))\n"
   ]
  },
  {
   "cell_type": "code",
   "execution_count": 12,
   "metadata": {},
   "outputs": [
    {
     "output_type": "execute_result",
     "data": {
      "text/plain": [
       "['models/model1.save']"
      ]
     },
     "metadata": {},
     "execution_count": 12
    }
   ],
   "source": [
    "import joblib\n",
    "x_train,y_train = X_scaled,y_train_vals\n",
    "model.fit(x_train,y_train)\n",
    "joblib.dump(model,\"models/model1.save\")\n",
    "joblib.dump(x_train,\"models/x_train1\")\n",
    "joblib.dump(y_train,\"models/y_train1\")\n",
    "joblib.dump(scaler,\"models/scaler1\")"
   ]
  },
  {
   "cell_type": "code",
   "execution_count": 38,
   "metadata": {},
   "outputs": [
    {
     "output_type": "stream",
     "name": "stdout",
     "text": [
      "[1, 2, 3, 4] [5, 6]\n"
     ]
    }
   ],
   "source": [
    "a=[1,2,3,4,5,6]\n",
    "print(a[:len(a)-2],a[-2:])"
   ]
  },
  {
   "cell_type": "code",
   "execution_count": 38,
   "metadata": {},
   "outputs": [
    {
     "output_type": "execute_result",
     "data": {
      "text/plain": [
       "array([0.11465078, 0.08531366, 0.06131762, 0.03028399, 0.03918723,\n",
       "       0.03281094, 0.05667189, 0.13134883, 0.08692176, 0.12304804,\n",
       "       0.01548761, 0.01601414, 0.00261581, 0.08276893, 0.04207947,\n",
       "       0.03910209, 0.0403772 ])"
      ]
     },
     "metadata": {},
     "execution_count": 38
    }
   ],
   "source": [
    "model.feature_importances_"
   ]
  },
  {
   "cell_type": "code",
   "execution_count": 41,
   "metadata": {},
   "outputs": [
    {
     "output_type": "execute_result",
     "data": {
      "text/plain": [
       "(0.29375, 1.0)"
      ]
     },
     "metadata": {},
     "execution_count": 41
    }
   ],
   "source": [
    "from sklearn.tree import DecisionTreeClassifier\n",
    "\n",
    "model = DecisionTreeClassifier(max_features=2)\n",
    "\n",
    "n_train = 4000\n",
    "\n",
    "model.fit(X[:n-n_train],y_train_vals[:n-n_train])\n",
    "\n",
    "model.score(X[-n_train:],y_train_vals[-n_train:]), model.score(X[:n-n_train],y_train_vals[:n-n_train])\n"
   ]
  },
  {
   "cell_type": "code",
   "execution_count": 28,
   "metadata": {},
   "outputs": [
    {
     "output_type": "execute_result",
     "data": {
      "text/plain": [
       "(0.08040201005025126, 1.0)"
      ]
     },
     "metadata": {},
     "execution_count": 28
    }
   ],
   "source": [
    "from sklearn.tree import DecisionTreeClassifier\n",
    "\n",
    "model = DecisionTreeClassifier()\n",
    "model.fit(X_scaled[:800],y_train_vals[:800],)\n",
    "\n",
    "model.score(X_scaled[801:1000],y_train_vals[801:1000]), model.score(X_scaled[:800],y_train_vals[:800])\n",
    "\n",
    "# f1_score(y_pred,y_train_vals[801:1000])"
   ]
  },
  {
   "cell_type": "code",
   "execution_count": 24,
   "metadata": {},
   "outputs": [
    {
     "output_type": "stream",
     "name": "stderr",
     "text": [
      "ERROR:root:Internal Python error in the inspect module.\n",
      "Below is the traceback from this internal error.\n",
      "\n",
      "Traceback (most recent call last):\n",
      "  File \"C:\\Users\\admin\\anaconda3\\envs\\myenv\\lib\\site-packages\\IPython\\core\\interactiveshell.py\", line 3417, in run_code\n",
      "    exec(code_obj, self.user_global_ns, self.user_ns)\n",
      "  File \"<ipython-input-24-10802b88b195>\", line 2, in <module>\n",
      "    sns.pairplot(X)\n",
      "  File \"C:\\Users\\admin\\anaconda3\\envs\\myenv\\lib\\site-packages\\seaborn\\_decorators.py\", line 46, in inner_f\n",
      "    return f(**kwargs)\n",
      "  File \"C:\\Users\\admin\\anaconda3\\envs\\myenv\\lib\\site-packages\\seaborn\\axisgrid.py\", line 1961, in pairplot\n",
      "    grid.map_diag(histplot, **diag_kws)\n",
      "  File \"C:\\Users\\admin\\anaconda3\\envs\\myenv\\lib\\site-packages\\seaborn\\axisgrid.py\", line 1377, in map_diag\n",
      "    func(x=vector, **plot_kwargs)\n",
      "  File \"C:\\Users\\admin\\anaconda3\\envs\\myenv\\lib\\site-packages\\seaborn\\distributions.py\", line 1435, in histplot\n",
      "    **kwargs,\n",
      "  File \"C:\\Users\\admin\\anaconda3\\envs\\myenv\\lib\\site-packages\\seaborn\\distributions.py\", line 560, in plot_univariate_histogram\n",
      "    **artist_kws,\n",
      "  File \"C:\\Users\\admin\\anaconda3\\envs\\myenv\\lib\\site-packages\\matplotlib\\__init__.py\", line 1438, in inner\n",
      "    return func(ax, *map(sanitize_sequence, args), **kwargs)\n",
      "  File \"C:\\Users\\admin\\anaconda3\\envs\\myenv\\lib\\site-packages\\matplotlib\\axes\\_axes.py\", line 2494, in bar\n",
      "    self.add_patch(r)\n",
      "  File \"C:\\Users\\admin\\anaconda3\\envs\\myenv\\lib\\site-packages\\matplotlib\\axes\\_base.py\", line 2037, in add_patch\n",
      "    p.set_clip_path(self.patch)\n",
      "  File \"C:\\Users\\admin\\anaconda3\\envs\\myenv\\lib\\site-packages\\matplotlib\\artist.py\", line 754, in set_clip_path\n",
      "    path.get_transform())\n",
      "  File \"C:\\Users\\admin\\anaconda3\\envs\\myenv\\lib\\site-packages\\matplotlib\\patches.py\", line 260, in get_transform\n",
      "    return self.get_patch_transform() + artist.Artist.get_transform(self)\n",
      "  File \"C:\\Users\\admin\\anaconda3\\envs\\myenv\\lib\\site-packages\\matplotlib\\patches.py\", line 792, in get_patch_transform\n",
      "    self._update_patch_transform()\n",
      "  File \"C:\\Users\\admin\\anaconda3\\envs\\myenv\\lib\\site-packages\\matplotlib\\patches.py\", line 773, in _update_patch_transform\n",
      "    rot_trans.rotate_deg_around(x0, y0, self.angle)\n",
      "  File \"C:\\Users\\admin\\anaconda3\\envs\\myenv\\lib\\site-packages\\matplotlib\\transforms.py\", line 1967, in rotate_deg_around\n",
      "    return self.translate(-x, -y).rotate_deg(degrees).translate(x, y)\n",
      "  File \"C:\\Users\\admin\\anaconda3\\envs\\myenv\\lib\\site-packages\\matplotlib\\transforms.py\", line 1945, in rotate_deg\n",
      "    return self.rotate(math.radians(degrees))\n",
      "  File \"C:\\Users\\admin\\anaconda3\\envs\\myenv\\lib\\site-packages\\matplotlib\\transforms.py\", line 1933, in rotate\n",
      "    self._mtx = np.dot(rotate_mtx, self._mtx)\n",
      "  File \"<__array_function__ internals>\", line 6, in dot\n",
      "KeyboardInterrupt\n",
      "\n",
      "During handling of the above exception, another exception occurred:\n",
      "\n",
      "Traceback (most recent call last):\n",
      "  File \"C:\\Users\\admin\\anaconda3\\envs\\myenv\\lib\\site-packages\\IPython\\core\\interactiveshell.py\", line 2044, in showtraceback\n",
      "    stb = value._render_traceback_()\n",
      "AttributeError: 'KeyboardInterrupt' object has no attribute '_render_traceback_'\n",
      "\n",
      "During handling of the above exception, another exception occurred:\n",
      "\n",
      "Traceback (most recent call last):\n",
      "  File \"C:\\Users\\admin\\anaconda3\\envs\\myenv\\lib\\site-packages\\IPython\\core\\ultratb.py\", line 1169, in get_records\n",
      "    return _fixed_getinnerframes(etb, number_of_lines_of_context, tb_offset)\n",
      "  File \"C:\\Users\\admin\\anaconda3\\envs\\myenv\\lib\\site-packages\\IPython\\core\\ultratb.py\", line 316, in wrapped\n",
      "    return f(*args, **kwargs)\n",
      "  File \"C:\\Users\\admin\\anaconda3\\envs\\myenv\\lib\\site-packages\\IPython\\core\\ultratb.py\", line 350, in _fixed_getinnerframes\n",
      "    records = fix_frame_records_filenames(inspect.getinnerframes(etb, context))\n",
      "  File \"C:\\Users\\admin\\anaconda3\\envs\\myenv\\lib\\inspect.py\", line 1502, in getinnerframes\n",
      "    frameinfo = (tb.tb_frame,) + getframeinfo(tb, context)\n",
      "  File \"C:\\Users\\admin\\anaconda3\\envs\\myenv\\lib\\inspect.py\", line 1460, in getframeinfo\n",
      "    filename = getsourcefile(frame) or getfile(frame)\n",
      "  File \"C:\\Users\\admin\\anaconda3\\envs\\myenv\\lib\\inspect.py\", line 696, in getsourcefile\n",
      "    if getattr(getmodule(object, filename), '__loader__', None) is not None:\n",
      "  File \"C:\\Users\\admin\\anaconda3\\envs\\myenv\\lib\\inspect.py\", line 739, in getmodule\n",
      "    f = getabsfile(module)\n",
      "  File \"C:\\Users\\admin\\anaconda3\\envs\\myenv\\lib\\inspect.py\", line 708, in getabsfile\n",
      "    _filename = getsourcefile(object) or getfile(object)\n",
      "  File \"C:\\Users\\admin\\anaconda3\\envs\\myenv\\lib\\inspect.py\", line 693, in getsourcefile\n",
      "    if os.path.exists(filename):\n",
      "  File \"C:\\Users\\admin\\anaconda3\\envs\\myenv\\lib\\genericpath.py\", line 19, in exists\n",
      "    os.stat(path)\n",
      "KeyboardInterrupt\n"
     ]
    },
    {
     "output_type": "error",
     "ename": "TypeError",
     "evalue": "object of type 'NoneType' has no len()",
     "traceback": [
      "\u001b[1;31m---------------------------------------------------------------------------\u001b[0m",
      "\u001b[1;31mKeyboardInterrupt\u001b[0m                         Traceback (most recent call last)",
      "    \u001b[1;31m[... skipping hidden 1 frame]\u001b[0m\n",
      "\u001b[1;32m<ipython-input-24-10802b88b195>\u001b[0m in \u001b[0;36m<module>\u001b[1;34m\u001b[0m\n\u001b[0;32m      1\u001b[0m \u001b[1;32mimport\u001b[0m \u001b[0mseaborn\u001b[0m \u001b[1;32mas\u001b[0m \u001b[0msns\u001b[0m\u001b[1;33m\u001b[0m\u001b[1;33m\u001b[0m\u001b[0m\n\u001b[1;32m----> 2\u001b[1;33m \u001b[0msns\u001b[0m\u001b[1;33m.\u001b[0m\u001b[0mpairplot\u001b[0m\u001b[1;33m(\u001b[0m\u001b[0mX\u001b[0m\u001b[1;33m)\u001b[0m\u001b[1;33m\u001b[0m\u001b[1;33m\u001b[0m\u001b[0m\n\u001b[0m",
      "\u001b[1;32m~\\anaconda3\\envs\\myenv\\lib\\site-packages\\seaborn\\_decorators.py\u001b[0m in \u001b[0;36minner_f\u001b[1;34m(*args, **kwargs)\u001b[0m\n\u001b[0;32m     45\u001b[0m         \u001b[0mkwargs\u001b[0m\u001b[1;33m.\u001b[0m\u001b[0mupdate\u001b[0m\u001b[1;33m(\u001b[0m\u001b[1;33m{\u001b[0m\u001b[0mk\u001b[0m\u001b[1;33m:\u001b[0m \u001b[0marg\u001b[0m \u001b[1;32mfor\u001b[0m \u001b[0mk\u001b[0m\u001b[1;33m,\u001b[0m \u001b[0marg\u001b[0m \u001b[1;32min\u001b[0m \u001b[0mzip\u001b[0m\u001b[1;33m(\u001b[0m\u001b[0msig\u001b[0m\u001b[1;33m.\u001b[0m\u001b[0mparameters\u001b[0m\u001b[1;33m,\u001b[0m \u001b[0margs\u001b[0m\u001b[1;33m)\u001b[0m\u001b[1;33m}\u001b[0m\u001b[1;33m)\u001b[0m\u001b[1;33m\u001b[0m\u001b[1;33m\u001b[0m\u001b[0m\n\u001b[1;32m---> 46\u001b[1;33m         \u001b[1;32mreturn\u001b[0m \u001b[0mf\u001b[0m\u001b[1;33m(\u001b[0m\u001b[1;33m**\u001b[0m\u001b[0mkwargs\u001b[0m\u001b[1;33m)\u001b[0m\u001b[1;33m\u001b[0m\u001b[1;33m\u001b[0m\u001b[0m\n\u001b[0m\u001b[0;32m     47\u001b[0m     \u001b[1;32mreturn\u001b[0m \u001b[0minner_f\u001b[0m\u001b[1;33m\u001b[0m\u001b[1;33m\u001b[0m\u001b[0m\n",
      "\u001b[1;32m~\\anaconda3\\envs\\myenv\\lib\\site-packages\\seaborn\\axisgrid.py\u001b[0m in \u001b[0;36mpairplot\u001b[1;34m(data, hue, hue_order, palette, vars, x_vars, y_vars, kind, diag_kind, markers, height, aspect, corner, dropna, plot_kws, diag_kws, grid_kws, size)\u001b[0m\n\u001b[0;32m   1960\u001b[0m     \u001b[1;32mif\u001b[0m \u001b[0mdiag_kind\u001b[0m \u001b[1;33m==\u001b[0m \u001b[1;34m\"hist\"\u001b[0m\u001b[1;33m:\u001b[0m\u001b[1;33m\u001b[0m\u001b[1;33m\u001b[0m\u001b[0m\n\u001b[1;32m-> 1961\u001b[1;33m         \u001b[0mgrid\u001b[0m\u001b[1;33m.\u001b[0m\u001b[0mmap_diag\u001b[0m\u001b[1;33m(\u001b[0m\u001b[0mhistplot\u001b[0m\u001b[1;33m,\u001b[0m \u001b[1;33m**\u001b[0m\u001b[0mdiag_kws\u001b[0m\u001b[1;33m)\u001b[0m\u001b[1;33m\u001b[0m\u001b[1;33m\u001b[0m\u001b[0m\n\u001b[0m\u001b[0;32m   1962\u001b[0m     \u001b[1;32melif\u001b[0m \u001b[0mdiag_kind\u001b[0m \u001b[1;33m==\u001b[0m \u001b[1;34m\"kde\"\u001b[0m\u001b[1;33m:\u001b[0m\u001b[1;33m\u001b[0m\u001b[1;33m\u001b[0m\u001b[0m\n",
      "\u001b[1;32m~\\anaconda3\\envs\\myenv\\lib\\site-packages\\seaborn\\axisgrid.py\u001b[0m in \u001b[0;36mmap_diag\u001b[1;34m(self, func, **kwargs)\u001b[0m\n\u001b[0;32m   1376\u001b[0m             \u001b[0mplot_kwargs\u001b[0m\u001b[1;33m.\u001b[0m\u001b[0msetdefault\u001b[0m\u001b[1;33m(\u001b[0m\u001b[1;34m\"palette\"\u001b[0m\u001b[1;33m,\u001b[0m \u001b[0mself\u001b[0m\u001b[1;33m.\u001b[0m\u001b[0m_orig_palette\u001b[0m\u001b[1;33m)\u001b[0m\u001b[1;33m\u001b[0m\u001b[1;33m\u001b[0m\u001b[0m\n\u001b[1;32m-> 1377\u001b[1;33m             \u001b[0mfunc\u001b[0m\u001b[1;33m(\u001b[0m\u001b[0mx\u001b[0m\u001b[1;33m=\u001b[0m\u001b[0mvector\u001b[0m\u001b[1;33m,\u001b[0m \u001b[1;33m**\u001b[0m\u001b[0mplot_kwargs\u001b[0m\u001b[1;33m)\u001b[0m\u001b[1;33m\u001b[0m\u001b[1;33m\u001b[0m\u001b[0m\n\u001b[0m\u001b[0;32m   1378\u001b[0m             \u001b[0mself\u001b[0m\u001b[1;33m.\u001b[0m\u001b[0m_clean_axis\u001b[0m\u001b[1;33m(\u001b[0m\u001b[0max\u001b[0m\u001b[1;33m)\u001b[0m\u001b[1;33m\u001b[0m\u001b[1;33m\u001b[0m\u001b[0m\n",
      "\u001b[1;32m~\\anaconda3\\envs\\myenv\\lib\\site-packages\\seaborn\\distributions.py\u001b[0m in \u001b[0;36mhistplot\u001b[1;34m(data, x, y, hue, weights, stat, bins, binwidth, binrange, discrete, cumulative, common_bins, common_norm, multiple, element, fill, shrink, kde, kde_kws, line_kws, thresh, pthresh, pmax, cbar, cbar_ax, cbar_kws, palette, hue_order, hue_norm, color, log_scale, legend, ax, **kwargs)\u001b[0m\n\u001b[0;32m   1434\u001b[0m             \u001b[0mline_kws\u001b[0m\u001b[1;33m=\u001b[0m\u001b[0mline_kws\u001b[0m\u001b[1;33m,\u001b[0m\u001b[1;33m\u001b[0m\u001b[1;33m\u001b[0m\u001b[0m\n\u001b[1;32m-> 1435\u001b[1;33m             \u001b[1;33m**\u001b[0m\u001b[0mkwargs\u001b[0m\u001b[1;33m,\u001b[0m\u001b[1;33m\u001b[0m\u001b[1;33m\u001b[0m\u001b[0m\n\u001b[0m\u001b[0;32m   1436\u001b[0m         )\n",
      "\u001b[1;32m~\\anaconda3\\envs\\myenv\\lib\\site-packages\\seaborn\\distributions.py\u001b[0m in \u001b[0;36mplot_univariate_histogram\u001b[1;34m(self, multiple, element, fill, common_norm, common_bins, shrink, kde, kde_kws, color, legend, line_kws, estimate_kws, **plot_kws)\u001b[0m\n\u001b[0;32m    559\u001b[0m                     \u001b[0malign\u001b[0m\u001b[1;33m=\u001b[0m\u001b[1;34m\"edge\"\u001b[0m\u001b[1;33m,\u001b[0m\u001b[1;33m\u001b[0m\u001b[1;33m\u001b[0m\u001b[0m\n\u001b[1;32m--> 560\u001b[1;33m                     \u001b[1;33m**\u001b[0m\u001b[0martist_kws\u001b[0m\u001b[1;33m,\u001b[0m\u001b[1;33m\u001b[0m\u001b[1;33m\u001b[0m\u001b[0m\n\u001b[0m\u001b[0;32m    561\u001b[0m                 )\n",
      "\u001b[1;32m~\\anaconda3\\envs\\myenv\\lib\\site-packages\\matplotlib\\__init__.py\u001b[0m in \u001b[0;36minner\u001b[1;34m(ax, data, *args, **kwargs)\u001b[0m\n\u001b[0;32m   1437\u001b[0m         \u001b[1;32mif\u001b[0m \u001b[0mdata\u001b[0m \u001b[1;32mis\u001b[0m \u001b[1;32mNone\u001b[0m\u001b[1;33m:\u001b[0m\u001b[1;33m\u001b[0m\u001b[1;33m\u001b[0m\u001b[0m\n\u001b[1;32m-> 1438\u001b[1;33m             \u001b[1;32mreturn\u001b[0m \u001b[0mfunc\u001b[0m\u001b[1;33m(\u001b[0m\u001b[0max\u001b[0m\u001b[1;33m,\u001b[0m \u001b[1;33m*\u001b[0m\u001b[0mmap\u001b[0m\u001b[1;33m(\u001b[0m\u001b[0msanitize_sequence\u001b[0m\u001b[1;33m,\u001b[0m \u001b[0margs\u001b[0m\u001b[1;33m)\u001b[0m\u001b[1;33m,\u001b[0m \u001b[1;33m**\u001b[0m\u001b[0mkwargs\u001b[0m\u001b[1;33m)\u001b[0m\u001b[1;33m\u001b[0m\u001b[1;33m\u001b[0m\u001b[0m\n\u001b[0m\u001b[0;32m   1439\u001b[0m \u001b[1;33m\u001b[0m\u001b[0m\n",
      "\u001b[1;32m~\\anaconda3\\envs\\myenv\\lib\\site-packages\\matplotlib\\axes\\_axes.py\u001b[0m in \u001b[0;36mbar\u001b[1;34m(self, x, height, width, bottom, align, **kwargs)\u001b[0m\n\u001b[0;32m   2493\u001b[0m                 \u001b[0mr\u001b[0m\u001b[1;33m.\u001b[0m\u001b[0msticky_edges\u001b[0m\u001b[1;33m.\u001b[0m\u001b[0mx\u001b[0m\u001b[1;33m.\u001b[0m\u001b[0mappend\u001b[0m\u001b[1;33m(\u001b[0m\u001b[0ml\u001b[0m\u001b[1;33m)\u001b[0m\u001b[1;33m\u001b[0m\u001b[1;33m\u001b[0m\u001b[0m\n\u001b[1;32m-> 2494\u001b[1;33m             \u001b[0mself\u001b[0m\u001b[1;33m.\u001b[0m\u001b[0madd_patch\u001b[0m\u001b[1;33m(\u001b[0m\u001b[0mr\u001b[0m\u001b[1;33m)\u001b[0m\u001b[1;33m\u001b[0m\u001b[1;33m\u001b[0m\u001b[0m\n\u001b[0m\u001b[0;32m   2495\u001b[0m             \u001b[0mpatches\u001b[0m\u001b[1;33m.\u001b[0m\u001b[0mappend\u001b[0m\u001b[1;33m(\u001b[0m\u001b[0mr\u001b[0m\u001b[1;33m)\u001b[0m\u001b[1;33m\u001b[0m\u001b[1;33m\u001b[0m\u001b[0m\n",
      "\u001b[1;32m~\\anaconda3\\envs\\myenv\\lib\\site-packages\\matplotlib\\axes\\_base.py\u001b[0m in \u001b[0;36madd_patch\u001b[1;34m(self, p)\u001b[0m\n\u001b[0;32m   2036\u001b[0m         \u001b[1;32mif\u001b[0m \u001b[0mp\u001b[0m\u001b[1;33m.\u001b[0m\u001b[0mget_clip_path\u001b[0m\u001b[1;33m(\u001b[0m\u001b[1;33m)\u001b[0m \u001b[1;32mis\u001b[0m \u001b[1;32mNone\u001b[0m\u001b[1;33m:\u001b[0m\u001b[1;33m\u001b[0m\u001b[1;33m\u001b[0m\u001b[0m\n\u001b[1;32m-> 2037\u001b[1;33m             \u001b[0mp\u001b[0m\u001b[1;33m.\u001b[0m\u001b[0mset_clip_path\u001b[0m\u001b[1;33m(\u001b[0m\u001b[0mself\u001b[0m\u001b[1;33m.\u001b[0m\u001b[0mpatch\u001b[0m\u001b[1;33m)\u001b[0m\u001b[1;33m\u001b[0m\u001b[1;33m\u001b[0m\u001b[0m\n\u001b[0m\u001b[0;32m   2038\u001b[0m         \u001b[0mself\u001b[0m\u001b[1;33m.\u001b[0m\u001b[0m_update_patch_limits\u001b[0m\u001b[1;33m(\u001b[0m\u001b[0mp\u001b[0m\u001b[1;33m)\u001b[0m\u001b[1;33m\u001b[0m\u001b[1;33m\u001b[0m\u001b[0m\n",
      "\u001b[1;32m~\\anaconda3\\envs\\myenv\\lib\\site-packages\\matplotlib\\artist.py\u001b[0m in \u001b[0;36mset_clip_path\u001b[1;34m(self, path, transform)\u001b[0m\n\u001b[0;32m    753\u001b[0m                 self.clipbox = TransformedBbox(Bbox.unit(),\n\u001b[1;32m--> 754\u001b[1;33m                                                path.get_transform())\n\u001b[0m\u001b[0;32m    755\u001b[0m                 \u001b[0mself\u001b[0m\u001b[1;33m.\u001b[0m\u001b[0m_clippath\u001b[0m \u001b[1;33m=\u001b[0m \u001b[1;32mNone\u001b[0m\u001b[1;33m\u001b[0m\u001b[1;33m\u001b[0m\u001b[0m\n",
      "\u001b[1;32m~\\anaconda3\\envs\\myenv\\lib\\site-packages\\matplotlib\\patches.py\u001b[0m in \u001b[0;36mget_transform\u001b[1;34m(self)\u001b[0m\n\u001b[0;32m    259\u001b[0m         \u001b[1;34m\"\"\"Return the `~.transforms.Transform` applied to the `Patch`.\"\"\"\u001b[0m\u001b[1;33m\u001b[0m\u001b[1;33m\u001b[0m\u001b[0m\n\u001b[1;32m--> 260\u001b[1;33m         \u001b[1;32mreturn\u001b[0m \u001b[0mself\u001b[0m\u001b[1;33m.\u001b[0m\u001b[0mget_patch_transform\u001b[0m\u001b[1;33m(\u001b[0m\u001b[1;33m)\u001b[0m \u001b[1;33m+\u001b[0m \u001b[0martist\u001b[0m\u001b[1;33m.\u001b[0m\u001b[0mArtist\u001b[0m\u001b[1;33m.\u001b[0m\u001b[0mget_transform\u001b[0m\u001b[1;33m(\u001b[0m\u001b[0mself\u001b[0m\u001b[1;33m)\u001b[0m\u001b[1;33m\u001b[0m\u001b[1;33m\u001b[0m\u001b[0m\n\u001b[0m\u001b[0;32m    261\u001b[0m \u001b[1;33m\u001b[0m\u001b[0m\n",
      "\u001b[1;32m~\\anaconda3\\envs\\myenv\\lib\\site-packages\\matplotlib\\patches.py\u001b[0m in \u001b[0;36mget_patch_transform\u001b[1;34m(self)\u001b[0m\n\u001b[0;32m    791\u001b[0m     \u001b[1;32mdef\u001b[0m \u001b[0mget_patch_transform\u001b[0m\u001b[1;33m(\u001b[0m\u001b[0mself\u001b[0m\u001b[1;33m)\u001b[0m\u001b[1;33m:\u001b[0m\u001b[1;33m\u001b[0m\u001b[1;33m\u001b[0m\u001b[0m\n\u001b[1;32m--> 792\u001b[1;33m         \u001b[0mself\u001b[0m\u001b[1;33m.\u001b[0m\u001b[0m_update_patch_transform\u001b[0m\u001b[1;33m(\u001b[0m\u001b[1;33m)\u001b[0m\u001b[1;33m\u001b[0m\u001b[1;33m\u001b[0m\u001b[0m\n\u001b[0m\u001b[0;32m    793\u001b[0m         \u001b[1;32mreturn\u001b[0m \u001b[0mself\u001b[0m\u001b[1;33m.\u001b[0m\u001b[0m_rect_transform\u001b[0m\u001b[1;33m\u001b[0m\u001b[1;33m\u001b[0m\u001b[0m\n",
      "\u001b[1;32m~\\anaconda3\\envs\\myenv\\lib\\site-packages\\matplotlib\\patches.py\u001b[0m in \u001b[0;36m_update_patch_transform\u001b[1;34m(self)\u001b[0m\n\u001b[0;32m    772\u001b[0m         \u001b[0mrot_trans\u001b[0m \u001b[1;33m=\u001b[0m \u001b[0mtransforms\u001b[0m\u001b[1;33m.\u001b[0m\u001b[0mAffine2D\u001b[0m\u001b[1;33m(\u001b[0m\u001b[1;33m)\u001b[0m\u001b[1;33m\u001b[0m\u001b[1;33m\u001b[0m\u001b[0m\n\u001b[1;32m--> 773\u001b[1;33m         \u001b[0mrot_trans\u001b[0m\u001b[1;33m.\u001b[0m\u001b[0mrotate_deg_around\u001b[0m\u001b[1;33m(\u001b[0m\u001b[0mx0\u001b[0m\u001b[1;33m,\u001b[0m \u001b[0my0\u001b[0m\u001b[1;33m,\u001b[0m \u001b[0mself\u001b[0m\u001b[1;33m.\u001b[0m\u001b[0mangle\u001b[0m\u001b[1;33m)\u001b[0m\u001b[1;33m\u001b[0m\u001b[1;33m\u001b[0m\u001b[0m\n\u001b[0m\u001b[0;32m    774\u001b[0m         \u001b[0mself\u001b[0m\u001b[1;33m.\u001b[0m\u001b[0m_rect_transform\u001b[0m \u001b[1;33m=\u001b[0m \u001b[0mtransforms\u001b[0m\u001b[1;33m.\u001b[0m\u001b[0mBboxTransformTo\u001b[0m\u001b[1;33m(\u001b[0m\u001b[0mbbox\u001b[0m\u001b[1;33m)\u001b[0m\u001b[1;33m\u001b[0m\u001b[1;33m\u001b[0m\u001b[0m\n",
      "\u001b[1;32m~\\anaconda3\\envs\\myenv\\lib\\site-packages\\matplotlib\\transforms.py\u001b[0m in \u001b[0;36mrotate_deg_around\u001b[1;34m(self, x, y, degrees)\u001b[0m\n\u001b[0;32m   1966\u001b[0m         \u001b[0mx\u001b[0m\u001b[1;33m,\u001b[0m \u001b[0my\u001b[0m \u001b[1;33m=\u001b[0m \u001b[0mfloat\u001b[0m\u001b[1;33m(\u001b[0m\u001b[0mx\u001b[0m\u001b[1;33m)\u001b[0m\u001b[1;33m,\u001b[0m \u001b[0mfloat\u001b[0m\u001b[1;33m(\u001b[0m\u001b[0my\u001b[0m\u001b[1;33m)\u001b[0m\u001b[1;33m\u001b[0m\u001b[1;33m\u001b[0m\u001b[0m\n\u001b[1;32m-> 1967\u001b[1;33m         \u001b[1;32mreturn\u001b[0m \u001b[0mself\u001b[0m\u001b[1;33m.\u001b[0m\u001b[0mtranslate\u001b[0m\u001b[1;33m(\u001b[0m\u001b[1;33m-\u001b[0m\u001b[0mx\u001b[0m\u001b[1;33m,\u001b[0m \u001b[1;33m-\u001b[0m\u001b[0my\u001b[0m\u001b[1;33m)\u001b[0m\u001b[1;33m.\u001b[0m\u001b[0mrotate_deg\u001b[0m\u001b[1;33m(\u001b[0m\u001b[0mdegrees\u001b[0m\u001b[1;33m)\u001b[0m\u001b[1;33m.\u001b[0m\u001b[0mtranslate\u001b[0m\u001b[1;33m(\u001b[0m\u001b[0mx\u001b[0m\u001b[1;33m,\u001b[0m \u001b[0my\u001b[0m\u001b[1;33m)\u001b[0m\u001b[1;33m\u001b[0m\u001b[1;33m\u001b[0m\u001b[0m\n\u001b[0m\u001b[0;32m   1968\u001b[0m \u001b[1;33m\u001b[0m\u001b[0m\n",
      "\u001b[1;32m~\\anaconda3\\envs\\myenv\\lib\\site-packages\\matplotlib\\transforms.py\u001b[0m in \u001b[0;36mrotate_deg\u001b[1;34m(self, degrees)\u001b[0m\n\u001b[0;32m   1944\u001b[0m         \"\"\"\n\u001b[1;32m-> 1945\u001b[1;33m         \u001b[1;32mreturn\u001b[0m \u001b[0mself\u001b[0m\u001b[1;33m.\u001b[0m\u001b[0mrotate\u001b[0m\u001b[1;33m(\u001b[0m\u001b[0mmath\u001b[0m\u001b[1;33m.\u001b[0m\u001b[0mradians\u001b[0m\u001b[1;33m(\u001b[0m\u001b[0mdegrees\u001b[0m\u001b[1;33m)\u001b[0m\u001b[1;33m)\u001b[0m\u001b[1;33m\u001b[0m\u001b[1;33m\u001b[0m\u001b[0m\n\u001b[0m\u001b[0;32m   1946\u001b[0m \u001b[1;33m\u001b[0m\u001b[0m\n",
      "\u001b[1;32m~\\anaconda3\\envs\\myenv\\lib\\site-packages\\matplotlib\\transforms.py\u001b[0m in \u001b[0;36mrotate\u001b[1;34m(self, theta)\u001b[0m\n\u001b[0;32m   1932\u001b[0m                               float)\n\u001b[1;32m-> 1933\u001b[1;33m         \u001b[0mself\u001b[0m\u001b[1;33m.\u001b[0m\u001b[0m_mtx\u001b[0m \u001b[1;33m=\u001b[0m \u001b[0mnp\u001b[0m\u001b[1;33m.\u001b[0m\u001b[0mdot\u001b[0m\u001b[1;33m(\u001b[0m\u001b[0mrotate_mtx\u001b[0m\u001b[1;33m,\u001b[0m \u001b[0mself\u001b[0m\u001b[1;33m.\u001b[0m\u001b[0m_mtx\u001b[0m\u001b[1;33m)\u001b[0m\u001b[1;33m\u001b[0m\u001b[1;33m\u001b[0m\u001b[0m\n\u001b[0m\u001b[0;32m   1934\u001b[0m         \u001b[0mself\u001b[0m\u001b[1;33m.\u001b[0m\u001b[0minvalidate\u001b[0m\u001b[1;33m(\u001b[0m\u001b[1;33m)\u001b[0m\u001b[1;33m\u001b[0m\u001b[1;33m\u001b[0m\u001b[0m\n",
      "\u001b[1;32m<__array_function__ internals>\u001b[0m in \u001b[0;36mdot\u001b[1;34m(*args, **kwargs)\u001b[0m\n",
      "\u001b[1;31mKeyboardInterrupt\u001b[0m: ",
      "\nDuring handling of the above exception, another exception occurred:\n",
      "\u001b[1;31mAttributeError\u001b[0m                            Traceback (most recent call last)",
      "\u001b[1;32m~\\anaconda3\\envs\\myenv\\lib\\site-packages\\IPython\\core\\interactiveshell.py\u001b[0m in \u001b[0;36mshowtraceback\u001b[1;34m(self, exc_tuple, filename, tb_offset, exception_only, running_compiled_code)\u001b[0m\n\u001b[0;32m   2043\u001b[0m                         \u001b[1;31m# in the engines. This should return a list of strings.\u001b[0m\u001b[1;33m\u001b[0m\u001b[1;33m\u001b[0m\u001b[1;33m\u001b[0m\u001b[0m\n\u001b[1;32m-> 2044\u001b[1;33m                         \u001b[0mstb\u001b[0m \u001b[1;33m=\u001b[0m \u001b[0mvalue\u001b[0m\u001b[1;33m.\u001b[0m\u001b[0m_render_traceback_\u001b[0m\u001b[1;33m(\u001b[0m\u001b[1;33m)\u001b[0m\u001b[1;33m\u001b[0m\u001b[1;33m\u001b[0m\u001b[0m\n\u001b[0m\u001b[0;32m   2045\u001b[0m                     \u001b[1;32mexcept\u001b[0m \u001b[0mException\u001b[0m\u001b[1;33m:\u001b[0m\u001b[1;33m\u001b[0m\u001b[1;33m\u001b[0m\u001b[0m\n",
      "\u001b[1;31mAttributeError\u001b[0m: 'KeyboardInterrupt' object has no attribute '_render_traceback_'",
      "\nDuring handling of the above exception, another exception occurred:\n",
      "\u001b[1;31mTypeError\u001b[0m                                 Traceback (most recent call last)",
      "    \u001b[1;31m[... skipping hidden 1 frame]\u001b[0m\n",
      "\u001b[1;32m~\\anaconda3\\envs\\myenv\\lib\\site-packages\\IPython\\core\\interactiveshell.py\u001b[0m in \u001b[0;36mshowtraceback\u001b[1;34m(self, exc_tuple, filename, tb_offset, exception_only, running_compiled_code)\u001b[0m\n\u001b[0;32m   2045\u001b[0m                     \u001b[1;32mexcept\u001b[0m \u001b[0mException\u001b[0m\u001b[1;33m:\u001b[0m\u001b[1;33m\u001b[0m\u001b[1;33m\u001b[0m\u001b[0m\n\u001b[0;32m   2046\u001b[0m                         stb = self.InteractiveTB.structured_traceback(etype,\n\u001b[1;32m-> 2047\u001b[1;33m                                             value, tb, tb_offset=tb_offset)\n\u001b[0m\u001b[0;32m   2048\u001b[0m \u001b[1;33m\u001b[0m\u001b[0m\n\u001b[0;32m   2049\u001b[0m                     \u001b[0mself\u001b[0m\u001b[1;33m.\u001b[0m\u001b[0m_showtraceback\u001b[0m\u001b[1;33m(\u001b[0m\u001b[0metype\u001b[0m\u001b[1;33m,\u001b[0m \u001b[0mvalue\u001b[0m\u001b[1;33m,\u001b[0m \u001b[0mstb\u001b[0m\u001b[1;33m)\u001b[0m\u001b[1;33m\u001b[0m\u001b[1;33m\u001b[0m\u001b[0m\n",
      "\u001b[1;32m~\\anaconda3\\envs\\myenv\\lib\\site-packages\\IPython\\core\\ultratb.py\u001b[0m in \u001b[0;36mstructured_traceback\u001b[1;34m(self, etype, value, tb, tb_offset, number_of_lines_of_context)\u001b[0m\n\u001b[0;32m   1434\u001b[0m             \u001b[0mself\u001b[0m\u001b[1;33m.\u001b[0m\u001b[0mtb\u001b[0m \u001b[1;33m=\u001b[0m \u001b[0mtb\u001b[0m\u001b[1;33m\u001b[0m\u001b[1;33m\u001b[0m\u001b[0m\n\u001b[0;32m   1435\u001b[0m         return FormattedTB.structured_traceback(\n\u001b[1;32m-> 1436\u001b[1;33m             self, etype, value, tb, tb_offset, number_of_lines_of_context)\n\u001b[0m\u001b[0;32m   1437\u001b[0m \u001b[1;33m\u001b[0m\u001b[0m\n\u001b[0;32m   1438\u001b[0m \u001b[1;33m\u001b[0m\u001b[0m\n",
      "\u001b[1;32m~\\anaconda3\\envs\\myenv\\lib\\site-packages\\IPython\\core\\ultratb.py\u001b[0m in \u001b[0;36mstructured_traceback\u001b[1;34m(self, etype, value, tb, tb_offset, number_of_lines_of_context)\u001b[0m\n\u001b[0;32m   1334\u001b[0m             \u001b[1;31m# Verbose modes need a full traceback\u001b[0m\u001b[1;33m\u001b[0m\u001b[1;33m\u001b[0m\u001b[1;33m\u001b[0m\u001b[0m\n\u001b[0;32m   1335\u001b[0m             return VerboseTB.structured_traceback(\n\u001b[1;32m-> 1336\u001b[1;33m                 \u001b[0mself\u001b[0m\u001b[1;33m,\u001b[0m \u001b[0metype\u001b[0m\u001b[1;33m,\u001b[0m \u001b[0mvalue\u001b[0m\u001b[1;33m,\u001b[0m \u001b[0mtb\u001b[0m\u001b[1;33m,\u001b[0m \u001b[0mtb_offset\u001b[0m\u001b[1;33m,\u001b[0m \u001b[0mnumber_of_lines_of_context\u001b[0m\u001b[1;33m\u001b[0m\u001b[1;33m\u001b[0m\u001b[0m\n\u001b[0m\u001b[0;32m   1337\u001b[0m             )\n\u001b[0;32m   1338\u001b[0m         \u001b[1;32melif\u001b[0m \u001b[0mmode\u001b[0m \u001b[1;33m==\u001b[0m \u001b[1;34m'Minimal'\u001b[0m\u001b[1;33m:\u001b[0m\u001b[1;33m\u001b[0m\u001b[1;33m\u001b[0m\u001b[0m\n",
      "\u001b[1;32m~\\anaconda3\\envs\\myenv\\lib\\site-packages\\IPython\\core\\ultratb.py\u001b[0m in \u001b[0;36mstructured_traceback\u001b[1;34m(self, etype, evalue, etb, tb_offset, number_of_lines_of_context)\u001b[0m\n\u001b[0;32m   1191\u001b[0m \u001b[1;33m\u001b[0m\u001b[0m\n\u001b[0;32m   1192\u001b[0m         formatted_exception = self.format_exception_as_a_whole(etype, evalue, etb, number_of_lines_of_context,\n\u001b[1;32m-> 1193\u001b[1;33m                                                                tb_offset)\n\u001b[0m\u001b[0;32m   1194\u001b[0m \u001b[1;33m\u001b[0m\u001b[0m\n\u001b[0;32m   1195\u001b[0m         \u001b[0mcolors\u001b[0m \u001b[1;33m=\u001b[0m \u001b[0mself\u001b[0m\u001b[1;33m.\u001b[0m\u001b[0mColors\u001b[0m  \u001b[1;31m# just a shorthand + quicker name lookup\u001b[0m\u001b[1;33m\u001b[0m\u001b[1;33m\u001b[0m\u001b[0m\n",
      "\u001b[1;32m~\\anaconda3\\envs\\myenv\\lib\\site-packages\\IPython\\core\\ultratb.py\u001b[0m in \u001b[0;36mformat_exception_as_a_whole\u001b[1;34m(self, etype, evalue, etb, number_of_lines_of_context, tb_offset)\u001b[0m\n\u001b[0;32m   1148\u001b[0m \u001b[1;33m\u001b[0m\u001b[0m\n\u001b[0;32m   1149\u001b[0m \u001b[1;33m\u001b[0m\u001b[0m\n\u001b[1;32m-> 1150\u001b[1;33m         \u001b[0mlast_unique\u001b[0m\u001b[1;33m,\u001b[0m \u001b[0mrecursion_repeat\u001b[0m \u001b[1;33m=\u001b[0m \u001b[0mfind_recursion\u001b[0m\u001b[1;33m(\u001b[0m\u001b[0morig_etype\u001b[0m\u001b[1;33m,\u001b[0m \u001b[0mevalue\u001b[0m\u001b[1;33m,\u001b[0m \u001b[0mrecords\u001b[0m\u001b[1;33m)\u001b[0m\u001b[1;33m\u001b[0m\u001b[1;33m\u001b[0m\u001b[0m\n\u001b[0m\u001b[0;32m   1151\u001b[0m \u001b[1;33m\u001b[0m\u001b[0m\n\u001b[0;32m   1152\u001b[0m         \u001b[0mframes\u001b[0m \u001b[1;33m=\u001b[0m \u001b[0mself\u001b[0m\u001b[1;33m.\u001b[0m\u001b[0mformat_records\u001b[0m\u001b[1;33m(\u001b[0m\u001b[0mrecords\u001b[0m\u001b[1;33m,\u001b[0m \u001b[0mlast_unique\u001b[0m\u001b[1;33m,\u001b[0m \u001b[0mrecursion_repeat\u001b[0m\u001b[1;33m)\u001b[0m\u001b[1;33m\u001b[0m\u001b[1;33m\u001b[0m\u001b[0m\n",
      "\u001b[1;32m~\\anaconda3\\envs\\myenv\\lib\\site-packages\\IPython\\core\\ultratb.py\u001b[0m in \u001b[0;36mfind_recursion\u001b[1;34m(etype, value, records)\u001b[0m\n\u001b[0;32m    449\u001b[0m     \u001b[1;31m# first frame (from in to out) that looks different.\u001b[0m\u001b[1;33m\u001b[0m\u001b[1;33m\u001b[0m\u001b[1;33m\u001b[0m\u001b[0m\n\u001b[0;32m    450\u001b[0m     \u001b[1;32mif\u001b[0m \u001b[1;32mnot\u001b[0m \u001b[0mis_recursion_error\u001b[0m\u001b[1;33m(\u001b[0m\u001b[0metype\u001b[0m\u001b[1;33m,\u001b[0m \u001b[0mvalue\u001b[0m\u001b[1;33m,\u001b[0m \u001b[0mrecords\u001b[0m\u001b[1;33m)\u001b[0m\u001b[1;33m:\u001b[0m\u001b[1;33m\u001b[0m\u001b[1;33m\u001b[0m\u001b[0m\n\u001b[1;32m--> 451\u001b[1;33m         \u001b[1;32mreturn\u001b[0m \u001b[0mlen\u001b[0m\u001b[1;33m(\u001b[0m\u001b[0mrecords\u001b[0m\u001b[1;33m)\u001b[0m\u001b[1;33m,\u001b[0m \u001b[1;36m0\u001b[0m\u001b[1;33m\u001b[0m\u001b[1;33m\u001b[0m\u001b[0m\n\u001b[0m\u001b[0;32m    452\u001b[0m \u001b[1;33m\u001b[0m\u001b[0m\n\u001b[0;32m    453\u001b[0m     \u001b[1;31m# Select filename, lineno, func_name to track frames with\u001b[0m\u001b[1;33m\u001b[0m\u001b[1;33m\u001b[0m\u001b[1;33m\u001b[0m\u001b[0m\n",
      "\u001b[1;31mTypeError\u001b[0m: object of type 'NoneType' has no len()"
     ]
    }
   ],
   "source": [
    "import seaborn as sns\n",
    "sns.pairplot(X)"
   ]
  },
  {
   "cell_type": "code",
   "execution_count": 28,
   "metadata": {},
   "outputs": [
    {
     "output_type": "execute_result",
     "data": {
      "text/plain": [
       "<bound method DataFrame.corr of                0            1             2            3             4   \\\n",
       "0     3946.040978  8366.213684  38711.394373  1859.543999  39787.368942   \n",
       "1     2057.841920  5516.009115   1511.849566  1730.004264   1991.008987   \n",
       "2     2359.579686  5338.158121   1639.104670  1717.202066   2298.976889   \n",
       "3     2560.093541  4898.809954   1558.366382  1532.529384   2498.687731   \n",
       "4     1744.753880  1727.261782   1511.405197  1559.519972   1699.589671   \n",
       "...           ...          ...           ...          ...           ...   \n",
       "1995  1594.887702  1493.124914   1480.344480  1426.682135   1621.383630   \n",
       "1996  1576.717466  1495.246838   1407.017598  1481.922378   1591.587749   \n",
       "1997  1574.652794  1485.669884   1468.010398  1462.945724   1565.615529   \n",
       "1998  1511.963323  1469.346976   1437.793064  1442.165400   1537.898453   \n",
       "1999  1494.634370  1562.456667   1425.702901  1460.828225   1477.981241   \n",
       "\n",
       "                5             6           7           8           9   \\\n",
       "0     45709.854746  37193.566065  242.000575  297.001628  284.000999   \n",
       "1      5545.113419   1464.405203  225.000896  251.002427  297.001354   \n",
       "2      5112.133902   1487.062438  294.000017  182.001043  295.001476   \n",
       "3      4932.943771   1469.108284  292.000147  295.004942  258.002709   \n",
       "4      1674.076063   1428.144676  194.001375  297.000005  297.000022   \n",
       "...            ...           ...         ...         ...         ...   \n",
       "1995   1484.003124   1446.007175  257.000000  275.000000  213.000000   \n",
       "1996   1502.185625   1421.204616  297.000000  287.000000  292.000000   \n",
       "1997   1490.821752   1461.524977  292.000000  293.000000  266.000000   \n",
       "1998   1508.454407   1416.719721  287.000000  278.000000  296.000000   \n",
       "1999   1553.328820   1483.156861  292.000000  207.000000  297.000000   \n",
       "\n",
       "                 10  \n",
       "0     830536.559318  \n",
       "1       1375.522715  \n",
       "2       1172.534810  \n",
       "3       1273.061406  \n",
       "4        602.731063  \n",
       "...             ...  \n",
       "1995     479.162132  \n",
       "1996     395.496006  \n",
       "1997     456.880716  \n",
       "1998     418.495532  \n",
       "1999     435.921449  \n",
       "\n",
       "[2000 rows x 11 columns]>"
      ]
     },
     "metadata": {},
     "execution_count": 28
    }
   ],
   "source": [
    "X.corr\n"
   ]
  }
 ]
}